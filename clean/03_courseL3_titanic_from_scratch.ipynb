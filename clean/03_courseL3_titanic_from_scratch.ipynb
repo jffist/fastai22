{
 "cells": [
  {
   "cell_type": "code",
   "execution_count": 1,
   "id": "a7739900-a939-498f-b254-bf3082641f71",
   "metadata": {},
   "outputs": [],
   "source": [
    "import pandas as pd\n",
    "import numpy as np\n",
    "import matplotlib.pyplot as plt\n",
    "%matplotlib inline"
   ]
  },
  {
   "cell_type": "code",
   "execution_count": 2,
   "id": "43e0eb24-90c9-43b5-b4a4-969d71634def",
   "metadata": {},
   "outputs": [],
   "source": [
    "import torch"
   ]
  },
  {
   "cell_type": "markdown",
   "id": "b53bdc87-7ad1-478d-b534-35e08a25622d",
   "metadata": {},
   "source": [
    "# Objective\n",
    "This notebook reproduces Lesson 3 \"Titani in Excel\" approach to build simple NN model from scracth.\n",
    "* Part1: 1 and 2 layer model using PyTorch autograd and manually implemented Gradient Descent\n",
    "* Part2: the same but with pure numpy+scipy implementation using scipy solver\n",
    "\n",
    "## Data\n",
    "* train dataset downloaded from https://www.kaggle.com/competitions/titanic/data?select=train.csv\n",
    "\n",
    "## Preprocessing\n",
    "Preprocessing implemented as in lecture\n",
    "* remove all rows with missing values\n",
    "* max normalise Age\n",
    "* log(1+x) normalise Fare\n",
    "* dummy vars for Pclass, Sex, Embarked"
   ]
  },
  {
   "cell_type": "markdown",
   "id": "5b128070-0563-4b12-afd2-c61bb7a4e07e",
   "metadata": {
    "tags": []
   },
   "source": [
    "# 1. Load & filter data"
   ]
  },
  {
   "cell_type": "code",
   "execution_count": 3,
   "id": "e15a4bdd-74b3-47e0-8245-6959538359bb",
   "metadata": {},
   "outputs": [],
   "source": [
    "df = pd.read_csv(\"data/titanic_train.csv\")"
   ]
  },
  {
   "cell_type": "code",
   "execution_count": 4,
   "id": "b7a047fd-1174-4152-9409-75fe38dc13f3",
   "metadata": {},
   "outputs": [
    {
     "name": "stdout",
     "output_type": "stream",
     "text": [
      "<class 'pandas.core.frame.DataFrame'>\n",
      "RangeIndex: 891 entries, 0 to 890\n",
      "Data columns (total 12 columns):\n",
      " #   Column       Non-Null Count  Dtype  \n",
      "---  ------       --------------  -----  \n",
      " 0   PassengerId  891 non-null    int64  \n",
      " 1   Survived     891 non-null    int64  \n",
      " 2   Pclass       891 non-null    int64  \n",
      " 3   Name         891 non-null    object \n",
      " 4   Sex          891 non-null    object \n",
      " 5   Age          714 non-null    float64\n",
      " 6   SibSp        891 non-null    int64  \n",
      " 7   Parch        891 non-null    int64  \n",
      " 8   Ticket       891 non-null    object \n",
      " 9   Fare         891 non-null    float64\n",
      " 10  Cabin        204 non-null    object \n",
      " 11  Embarked     889 non-null    object \n",
      "dtypes: float64(2), int64(5), object(5)\n",
      "memory usage: 83.7+ KB\n"
     ]
    }
   ],
   "source": [
    "df.info()"
   ]
  },
  {
   "cell_type": "code",
   "execution_count": 5,
   "id": "24203da6-ab51-4bbd-8b5b-18a463ed45e9",
   "metadata": {},
   "outputs": [],
   "source": [
    "df = df.set_index('PassengerId')"
   ]
  },
  {
   "cell_type": "code",
   "execution_count": 6,
   "id": "aa55a376-c5a2-4861-9a6c-3c4f29443f15",
   "metadata": {},
   "outputs": [],
   "source": [
    "columns_used_for_modelling = ['Survived', 'Pclass', 'Sex', 'Age', 'SibSp', 'Parch', 'Fare', 'Embarked']\n",
    "df = df[columns_used_for_modelling].copy()"
   ]
  },
  {
   "cell_type": "code",
   "execution_count": 7,
   "id": "056d5161-fd84-4787-b686-b405f1145dd9",
   "metadata": {},
   "outputs": [
    {
     "data": {
      "text/plain": [
       "Survived      0\n",
       "Pclass        0\n",
       "Sex           0\n",
       "Age         177\n",
       "SibSp         0\n",
       "Parch         0\n",
       "Fare          0\n",
       "Embarked      2\n",
       "dtype: int64"
      ]
     },
     "execution_count": 7,
     "metadata": {},
     "output_type": "execute_result"
    }
   ],
   "source": [
    "# remove all missing\n",
    "df.isna().sum()"
   ]
  },
  {
   "cell_type": "code",
   "execution_count": 8,
   "id": "0c5d8caa-5a04-43bf-a094-a1cabf7de1fe",
   "metadata": {},
   "outputs": [
    {
     "name": "stdout",
     "output_type": "stream",
     "text": [
      "(712, 8)\n"
     ]
    }
   ],
   "source": [
    "df = df.dropna()\n",
    "print(df.shape)"
   ]
  },
  {
   "cell_type": "markdown",
   "id": "e5c73558-f984-40ad-8d77-1ab7e3001e90",
   "metadata": {},
   "source": [
    "# 2. Preprocess features"
   ]
  },
  {
   "cell_type": "markdown",
   "id": "338038e1-e7fc-4368-b763-d6cec63d2a71",
   "metadata": {
    "jp-MarkdownHeadingCollapsed": true,
    "tags": []
   },
   "source": [
    "## 2.1 Pclass dummies"
   ]
  },
  {
   "cell_type": "code",
   "execution_count": 9,
   "id": "9e3284a3-559e-408f-9599-53fb3520da5d",
   "metadata": {},
   "outputs": [
    {
     "data": {
      "text/plain": [
       "3    355\n",
       "1    184\n",
       "2    173\n",
       "Name: Pclass, dtype: int64"
      ]
     },
     "execution_count": 9,
     "metadata": {},
     "output_type": "execute_result"
    }
   ],
   "source": [
    "df['Pclass'].value_counts()"
   ]
  },
  {
   "cell_type": "code",
   "execution_count": 10,
   "id": "afe71a1e-7a44-4bcd-b436-87f46fac473f",
   "metadata": {},
   "outputs": [],
   "source": [
    "df['Pclass_1'] = (df['Pclass'] == 1).astype(int)\n",
    "df['Pclass_2'] = (df['Pclass'] == 2).astype(int)"
   ]
  },
  {
   "cell_type": "code",
   "execution_count": 11,
   "id": "6808b890-eed7-4222-80b1-3d408500d90d",
   "metadata": {},
   "outputs": [],
   "source": [
    "df = df.drop('Pclass', axis=1)"
   ]
  },
  {
   "cell_type": "markdown",
   "id": "f96c4d9b-26a3-42f6-93cf-8314436afa2f",
   "metadata": {
    "jp-MarkdownHeadingCollapsed": true,
    "tags": []
   },
   "source": [
    "## 2.2 Embarked dummies"
   ]
  },
  {
   "cell_type": "code",
   "execution_count": 12,
   "id": "1e153f98-ad1b-46ee-8957-e993670f9eae",
   "metadata": {},
   "outputs": [
    {
     "data": {
      "text/plain": [
       "S    554\n",
       "C    130\n",
       "Q     28\n",
       "Name: Embarked, dtype: int64"
      ]
     },
     "execution_count": 12,
     "metadata": {},
     "output_type": "execute_result"
    }
   ],
   "source": [
    "df['Embarked'].value_counts()"
   ]
  },
  {
   "cell_type": "code",
   "execution_count": 13,
   "id": "7ad4180a-e809-49b9-a172-bef90d72d3b2",
   "metadata": {},
   "outputs": [],
   "source": [
    "df['Embarked_S'] = (df['Embarked'] == 'S').astype(int)\n",
    "df['Embarked_C'] = (df['Embarked'] == 'C').astype(int)"
   ]
  },
  {
   "cell_type": "code",
   "execution_count": 14,
   "id": "d4d049ca-8105-4986-88d4-74bd8c28de6c",
   "metadata": {},
   "outputs": [],
   "source": [
    "assert df['Embarked_S'].sum() == 554\n",
    "assert df['Embarked_C'].sum() == 130"
   ]
  },
  {
   "cell_type": "code",
   "execution_count": 15,
   "id": "2548539c-2772-4f18-b4f3-a31874005bc9",
   "metadata": {},
   "outputs": [],
   "source": [
    "df = df.drop('Embarked', axis=1)"
   ]
  },
  {
   "cell_type": "markdown",
   "id": "b3268291-1639-4cf4-812f-c9a9ad86da6a",
   "metadata": {
    "jp-MarkdownHeadingCollapsed": true,
    "tags": []
   },
   "source": [
    "## 2.3 Sex dummy -> Male"
   ]
  },
  {
   "cell_type": "code",
   "execution_count": 16,
   "id": "34b46264-ecb8-4e1b-97ba-1cb792ec1d59",
   "metadata": {},
   "outputs": [
    {
     "data": {
      "text/plain": [
       "male      453\n",
       "female    259\n",
       "Name: Sex, dtype: int64"
      ]
     },
     "execution_count": 16,
     "metadata": {},
     "output_type": "execute_result"
    }
   ],
   "source": [
    "df['Sex'].value_counts()"
   ]
  },
  {
   "cell_type": "code",
   "execution_count": 17,
   "id": "36c3e568-b204-48c2-946b-6471eb001cc4",
   "metadata": {},
   "outputs": [],
   "source": [
    "df['Male'] = (df['Sex'] == 'male').astype(int)"
   ]
  },
  {
   "cell_type": "code",
   "execution_count": 18,
   "id": "54b23050-f5fe-4c80-b990-0726e1f229ad",
   "metadata": {},
   "outputs": [],
   "source": [
    "assert df['Male'].sum() == 453"
   ]
  },
  {
   "cell_type": "code",
   "execution_count": 19,
   "id": "b3d0d216-c7b0-48cf-9b01-349eec82a696",
   "metadata": {},
   "outputs": [],
   "source": [
    "df = df.drop('Sex', axis=1)"
   ]
  },
  {
   "cell_type": "markdown",
   "id": "1517548c-19f0-4fed-b487-0bbb46c6994d",
   "metadata": {
    "tags": []
   },
   "source": [
    "## 2.4 Age normalisation"
   ]
  },
  {
   "cell_type": "code",
   "execution_count": 20,
   "id": "c67c934e-f630-468b-ac98-4262954e2b70",
   "metadata": {},
   "outputs": [],
   "source": [
    "df['Age_N'] = df['Age'] / df['Age'].max()"
   ]
  },
  {
   "cell_type": "code",
   "execution_count": 21,
   "id": "1959e70f-b5c5-47f2-91e7-bf762bb79edc",
   "metadata": {},
   "outputs": [
    {
     "data": {
      "text/plain": [
       "<AxesSubplot:>"
      ]
     },
     "execution_count": 21,
     "metadata": {},
     "output_type": "execute_result"
    },
    {
     "data": {
      "image/png": "[encoded data removed]",
      "text/plain": [
       "<Figure size 432x288 with 1 Axes>"
      ]
     },
     "metadata": {
      "needs_background": "light"
     },
     "output_type": "display_data"
    }
   ],
   "source": [
    "df['Age'].hist()"
   ]
  },
  {
   "cell_type": "code",
   "execution_count": 22,
   "id": "cadf1f3d-8d87-404a-860d-87513f0ceda2",
   "metadata": {},
   "outputs": [
    {
     "data": {
      "text/plain": [
       "<AxesSubplot:>"
      ]
     },
     "execution_count": 22,
     "metadata": {},
     "output_type": "execute_result"
    },
    {
     "data": {
      "image/png": "[encoded data removed]",
      "text/plain": [
       "<Figure size 432x288 with 1 Axes>"
      ]
     },
     "metadata": {
      "needs_background": "light"
     },
     "output_type": "display_data"
    }
   ],
   "source": [
    "df['Age_N'].hist()"
   ]
  },
  {
   "cell_type": "code",
   "execution_count": 23,
   "id": "0e512e7b-3fef-4aaf-af73-026b51b6c229",
   "metadata": {},
   "outputs": [],
   "source": [
    "df = df.drop('Age', axis=1)"
   ]
  },
  {
   "cell_type": "markdown",
   "id": "f73b4b50-12eb-4ff3-b011-a9dde21bb66e",
   "metadata": {},
   "source": [
    "## 2.5 Fare log normalisation"
   ]
  },
  {
   "cell_type": "code",
   "execution_count": 24,
   "id": "88f66264-f7ce-4184-8484-a28dbbed3a10",
   "metadata": {},
   "outputs": [
    {
     "data": {
      "text/plain": [
       "count    712.000000\n",
       "mean      34.567251\n",
       "std       52.938648\n",
       "min        0.000000\n",
       "25%        8.050000\n",
       "50%       15.645850\n",
       "75%       33.000000\n",
       "max      512.329200\n",
       "Name: Fare, dtype: float64"
      ]
     },
     "execution_count": 24,
     "metadata": {},
     "output_type": "execute_result"
    }
   ],
   "source": [
    "df['Fare'].describe()"
   ]
  },
  {
   "cell_type": "code",
   "execution_count": 25,
   "id": "5188c045-2134-4311-93ba-245cf383291b",
   "metadata": {},
   "outputs": [
    {
     "data": {
      "text/plain": [
       "<AxesSubplot:>"
      ]
     },
     "execution_count": 25,
     "metadata": {},
     "output_type": "execute_result"
    },
    {
     "data": {
      "image/png": "[encoded data removed]",
      "text/plain": [
       "<Figure size 432x288 with 1 Axes>"
      ]
     },
     "metadata": {
      "needs_background": "light"
     },
     "output_type": "display_data"
    }
   ],
   "source": [
    "df['Fare'].hist()"
   ]
  },
  {
   "cell_type": "code",
   "execution_count": 26,
   "id": "868ca52d-1a23-48df-8030-f18bd7b51fab",
   "metadata": {},
   "outputs": [],
   "source": [
    "df['Fare_Log'] = np.log(1+df['Fare'])"
   ]
  },
  {
   "cell_type": "code",
   "execution_count": 27,
   "id": "84eb87e7-dc20-45db-97aa-65242d6463a6",
   "metadata": {},
   "outputs": [
    {
     "data": {
      "text/plain": [
       "<AxesSubplot:>"
      ]
     },
     "execution_count": 27,
     "metadata": {},
     "output_type": "execute_result"
    },
    {
     "data": {
      "image/png": "[encoded data removed]",
      "text/plain": [
       "<Figure size 432x288 with 1 Axes>"
      ]
     },
     "metadata": {
      "needs_background": "light"
     },
     "output_type": "display_data"
    }
   ],
   "source": [
    "df['Fare_Log'].hist()"
   ]
  },
  {
   "cell_type": "code",
   "execution_count": 28,
   "id": "1b129a45-48f2-476a-91e9-2f993daad77a",
   "metadata": {},
   "outputs": [],
   "source": [
    "df = df.drop('Fare', axis=1)"
   ]
  },
  {
   "cell_type": "markdown",
   "id": "f0b51cc5-da5f-4cfc-b04c-d69b586fbc1d",
   "metadata": {},
   "source": [
    "## 2.6 Add artifical column for intercept"
   ]
  },
  {
   "cell_type": "code",
   "execution_count": 29,
   "id": "b3683dca-8e33-443b-94b8-cd1cdc06c7d2",
   "metadata": {},
   "outputs": [],
   "source": [
    "df['Intercept'] = 1"
   ]
  },
  {
   "cell_type": "markdown",
   "id": "5b13e02a-19f6-49c2-b05d-abc33a9e859b",
   "metadata": {},
   "source": [
    "# 3. Get train data as matrix"
   ]
  },
  {
   "cell_type": "code",
   "execution_count": 30,
   "id": "a187b90f-ba1a-4ab9-969c-c08c24573a9b",
   "metadata": {},
   "outputs": [],
   "source": [
    "y = df['Survived'].values"
   ]
  },
  {
   "cell_type": "code",
   "execution_count": 31,
   "id": "eef40598-0936-4f12-ba02-8cefa25ef54f",
   "metadata": {},
   "outputs": [
    {
     "name": "stdout",
     "output_type": "stream",
     "text": [
      "target rate 0.4044943820224719\n"
     ]
    }
   ],
   "source": [
    "print(\"target rate\", y.mean())"
   ]
  },
  {
   "cell_type": "code",
   "execution_count": 32,
   "id": "43bbbeae-f9ff-42bf-8b7f-f347526abab8",
   "metadata": {},
   "outputs": [],
   "source": [
    "X_df = df.drop('Survived', axis=1)\n",
    "X = X_df.values"
   ]
  },
  {
   "cell_type": "code",
   "execution_count": 33,
   "id": "92a77d12-0f55-4d63-bac5-df8b73ec8e63",
   "metadata": {},
   "outputs": [
    {
     "data": {
      "text/plain": [
       "(712, 10)"
      ]
     },
     "execution_count": 33,
     "metadata": {},
     "output_type": "execute_result"
    }
   ],
   "source": [
    "X.shape"
   ]
  },
  {
   "cell_type": "code",
   "execution_count": 34,
   "id": "f3f53549-584d-4b3b-be25-9e2619f84dc9",
   "metadata": {},
   "outputs": [
    {
     "data": {
      "text/plain": [
       "['SibSp',\n",
       " 'Parch',\n",
       " 'Pclass_1',\n",
       " 'Pclass_2',\n",
       " 'Embarked_S',\n",
       " 'Embarked_C',\n",
       " 'Male',\n",
       " 'Age_N',\n",
       " 'Fare_Log',\n",
       " 'Intercept']"
      ]
     },
     "execution_count": 34,
     "metadata": {},
     "output_type": "execute_result"
    }
   ],
   "source": [
    "feature_names = [c for c in X_df.columns]\n",
    "feature_names"
   ]
  },
  {
   "cell_type": "markdown",
   "id": "c19ecc81-23ff-4be9-9c94-b949e1a93708",
   "metadata": {},
   "source": [
    "# 4. Torch-based implementation"
   ]
  },
  {
   "cell_type": "markdown",
   "id": "4b080b0f-8707-4804-a124-4614fa7e00f2",
   "metadata": {},
   "source": [
    "## 4.1 test torch operations"
   ]
  },
  {
   "cell_type": "code",
   "execution_count": 35,
   "id": "12c28316-dc49-437f-bb1b-74961580e51e",
   "metadata": {},
   "outputs": [],
   "source": [
    "def relu(params, X):\n",
    "    return torch.clip(X@params, 0)"
   ]
  },
  {
   "cell_type": "code",
   "execution_count": 36,
   "id": "e4016120-e93d-47f4-b7c6-68fc8c69ede0",
   "metadata": {},
   "outputs": [],
   "source": [
    "def mae_loss(y_true, y_pred):\n",
    "    assert y_true.shape == y_pred.shape\n",
    "    return (y_true - y_pred).abs().mean()"
   ]
  },
  {
   "cell_type": "code",
   "execution_count": 37,
   "id": "01a4389f-12e4-45a3-aadd-2c91a4d96686",
   "metadata": {
    "tags": []
   },
   "outputs": [
    {
     "data": {
      "text/plain": [
       "tensor([[0., 1., 0.],\n",
       "        [1., 0., 1.]], dtype=torch.float64)"
      ]
     },
     "execution_count": 37,
     "metadata": {},
     "output_type": "execute_result"
    }
   ],
   "source": [
    "x_test = torch.tensor([[0.,1.,0.],[1, 0, 1]], dtype=torch.float64)\n",
    "x_test"
   ]
  },
  {
   "cell_type": "code",
   "execution_count": 38,
   "id": "e6e1205e-440c-404d-b208-509feca81b65",
   "metadata": {},
   "outputs": [
    {
     "data": {
      "text/plain": [
       "tensor([[ 1.],\n",
       "        [ 2.],\n",
       "        [-3.]], dtype=torch.float64)"
      ]
     },
     "execution_count": 38,
     "metadata": {},
     "output_type": "execute_result"
    }
   ],
   "source": [
    "p_test = torch.tensor(np.reshape([1.,2.,-3.], newshape=(3,1)), dtype=torch.float64)\n",
    "p_test"
   ]
  },
  {
   "cell_type": "code",
   "execution_count": 39,
   "id": "76031398-f221-4484-8010-cb1fe2c4192d",
   "metadata": {},
   "outputs": [
    {
     "data": {
      "text/plain": [
       "tensor([[1.],\n",
       "        [0.]], dtype=torch.float64)"
      ]
     },
     "execution_count": 39,
     "metadata": {},
     "output_type": "execute_result"
    }
   ],
   "source": [
    "y_test = torch.tensor([[1],[0]], dtype=torch.float64)\n",
    "y_test"
   ]
  },
  {
   "cell_type": "code",
   "execution_count": 40,
   "id": "f3ec6ac4-bf8b-48c1-bcd6-494bef2ae634",
   "metadata": {},
   "outputs": [
    {
     "data": {
      "text/plain": [
       "tensor([[ 2.],\n",
       "        [-2.]], dtype=torch.float64)"
      ]
     },
     "execution_count": 40,
     "metadata": {},
     "output_type": "execute_result"
    }
   ],
   "source": [
    "x_test @ p_test"
   ]
  },
  {
   "cell_type": "code",
   "execution_count": 41,
   "id": "7948d854-db6e-45cf-b68e-c74325cc2607",
   "metadata": {},
   "outputs": [
    {
     "data": {
      "text/plain": [
       "tensor([[2.],\n",
       "        [0.]], dtype=torch.float64)"
      ]
     },
     "execution_count": 41,
     "metadata": {},
     "output_type": "execute_result"
    }
   ],
   "source": [
    "y_pred_test = relu(p_test, x_test)\n",
    "y_pred_test"
   ]
  },
  {
   "cell_type": "code",
   "execution_count": 42,
   "id": "9313ff42-8b24-4eae-87af-e410a0b3b1bf",
   "metadata": {},
   "outputs": [],
   "source": [
    "assert y_pred_test.shape == (2,1)"
   ]
  },
  {
   "cell_type": "code",
   "execution_count": 43,
   "id": "c10b9932-9f80-4014-947a-7c787d68956f",
   "metadata": {},
   "outputs": [],
   "source": [
    "assert y_pred_test.equal(torch.tensor([[2],[0]], dtype=torch.float64))"
   ]
  },
  {
   "cell_type": "code",
   "execution_count": 44,
   "id": "abb9e174-610d-4873-b7b3-5125e5a891d2",
   "metadata": {},
   "outputs": [
    {
     "data": {
      "text/plain": [
       "tensor(0.5000, dtype=torch.float64)"
      ]
     },
     "execution_count": 44,
     "metadata": {},
     "output_type": "execute_result"
    }
   ],
   "source": [
    "loss_test = mae_loss(y_test, y_pred_test)\n",
    "loss_test"
   ]
  },
  {
   "cell_type": "code",
   "execution_count": 45,
   "id": "bb23c784-fd8f-46c3-a36a-361ffab6eaa4",
   "metadata": {},
   "outputs": [
    {
     "data": {
      "text/plain": [
       "tensor([[1.],\n",
       "        [0.]], dtype=torch.float64)"
      ]
     },
     "execution_count": 45,
     "metadata": {},
     "output_type": "execute_result"
    }
   ],
   "source": [
    "y_test"
   ]
  },
  {
   "cell_type": "code",
   "execution_count": 46,
   "id": "d8613e27-77cf-40fe-81f7-86237117187b",
   "metadata": {},
   "outputs": [
    {
     "data": {
      "text/plain": [
       "tensor([[2.],\n",
       "        [0.]], dtype=torch.float64)"
      ]
     },
     "execution_count": 46,
     "metadata": {},
     "output_type": "execute_result"
    }
   ],
   "source": [
    "y_pred_test"
   ]
  },
  {
   "cell_type": "code",
   "execution_count": 47,
   "id": "8112cc3f-146d-437f-b5b4-057e20a17014",
   "metadata": {},
   "outputs": [],
   "source": [
    "assert loss_test == 0.5 "
   ]
  },
  {
   "cell_type": "markdown",
   "id": "308377a4-6b13-4849-9d4b-73e55e8eaa38",
   "metadata": {},
   "source": [
    "## 4.2 Convert data to tensors "
   ]
  },
  {
   "cell_type": "code",
   "execution_count": 48,
   "id": "5c702d45-c01a-4a3c-a88e-1365202e4927",
   "metadata": {},
   "outputs": [],
   "source": [
    "n_features = X.shape[1]"
   ]
  },
  {
   "cell_type": "code",
   "execution_count": 49,
   "id": "b48f0b71-07d2-42b6-8bd2-1dcf507c653d",
   "metadata": {},
   "outputs": [],
   "source": [
    "Xt = torch.tensor(X, dtype=torch.float64)\n",
    "yt = torch.tensor(y.reshape(-1,1), dtype=torch.float64)"
   ]
  },
  {
   "cell_type": "code",
   "execution_count": 50,
   "id": "ca308e90-de90-492a-a76c-94256d8e49f3",
   "metadata": {},
   "outputs": [
    {
     "data": {
      "text/plain": [
       "torch.Size([712, 10])"
      ]
     },
     "execution_count": 50,
     "metadata": {},
     "output_type": "execute_result"
    }
   ],
   "source": [
    "Xt.shape"
   ]
  },
  {
   "cell_type": "code",
   "execution_count": 51,
   "id": "01b8ab46-eb95-4160-a943-877983a9c48a",
   "metadata": {},
   "outputs": [
    {
     "data": {
      "text/plain": [
       "torch.Size([712, 1])"
      ]
     },
     "execution_count": 51,
     "metadata": {},
     "output_type": "execute_result"
    }
   ],
   "source": [
    "yt.shape"
   ]
  },
  {
   "cell_type": "markdown",
   "id": "6c77c1ca-8a0a-42d7-9dd4-6069e436c34b",
   "metadata": {},
   "source": [
    "## 4.3 Gradient descent with single relu"
   ]
  },
  {
   "cell_type": "code",
   "execution_count": 52,
   "id": "4cd3c726-4109-4377-a972-adad37492777",
   "metadata": {},
   "outputs": [
    {
     "data": {
      "text/plain": [
       "torch.Size([10, 1])"
      ]
     },
     "execution_count": 52,
     "metadata": {},
     "output_type": "execute_result"
    }
   ],
   "source": [
    "np.random.seed(4)\n",
    "m_params = torch.tensor(np.random.normal(size=(n_features, 1)), requires_grad=True)\n",
    "m_params.shape"
   ]
  },
  {
   "cell_type": "code",
   "execution_count": 53,
   "id": "5b384f42-b441-4254-acea-06178fb04872",
   "metadata": {},
   "outputs": [
    {
     "data": {
      "text/plain": [
       "tensor([[ 0.0506],\n",
       "        [ 0.5000],\n",
       "        [-0.9959],\n",
       "        [ 0.6936],\n",
       "        [-0.4183],\n",
       "        [-1.5846],\n",
       "        [-0.6477],\n",
       "        [ 0.5986],\n",
       "        [ 0.3323],\n",
       "        [-1.1475]], dtype=torch.float64, requires_grad=True)"
      ]
     },
     "execution_count": 53,
     "metadata": {},
     "output_type": "execute_result"
    }
   ],
   "source": [
    "m_params"
   ]
  },
  {
   "cell_type": "code",
   "execution_count": 54,
   "id": "5cbe37d5-136e-48d9-ba5e-a1c2dd80759e",
   "metadata": {},
   "outputs": [],
   "source": [
    "# introduce class for a model, so we can experiment with different internals but the same optmisation loop\n",
    "class Model:\n",
    "    def __init__(self, relu_params):\n",
    "        self.relu_params = relu_params\n",
    "        \n",
    "    def apply(self, X):\n",
    "        return relu(self.relu_params, X)"
   ]
  },
  {
   "cell_type": "code",
   "execution_count": 55,
   "id": "fa9e97a2-6456-44a2-9cc1-2f6b5d92dca8",
   "metadata": {},
   "outputs": [],
   "source": [
    "model = Model(m_params)"
   ]
  },
  {
   "cell_type": "code",
   "execution_count": 56,
   "id": "791d316a-f9bf-4d4e-ab2d-35aa8c789fe4",
   "metadata": {},
   "outputs": [
    {
     "name": "stdout",
     "output_type": "stream",
     "text": [
      "# 0: loss: 0.40885\n",
      "# 100: loss: 0.36057\n"
     ]
    }
   ],
   "source": [
    "n_epochs = 200\n",
    "learning_rate = 0.05\n",
    "learning_trace = []\n",
    "for i in range(n_epochs):\n",
    "    y_pred = model.apply(Xt)\n",
    "    loss = mae_loss(yt, y_pred)\n",
    "    loss.backward()\n",
    "    with torch.no_grad():\n",
    "        model.relu_params -= model.relu_params.grad * learning_rate\n",
    "    model.relu_params.grad.zero_()\n",
    "    if i%100 == 0:\n",
    "        print(f\"# {i}: loss: {loss:.5f}\")\n",
    "    loss_val = loss.detach().numpy().tolist()\n",
    "    learning_trace.append((i,loss_val))\n",
    "trace_df = pd.DataFrame.from_records(learning_trace, columns=['iter','loss']).set_index('iter')"
   ]
  },
  {
   "cell_type": "code",
   "execution_count": 57,
   "id": "f92ab68c-8e52-439b-b5c4-a6e659723e9e",
   "metadata": {},
   "outputs": [
    {
     "data": {
      "text/html": [
       "<div>\n",
       "<style scoped>\n",
       "    .dataframe tbody tr th:only-of-type {\n",
       "        vertical-align: middle;\n",
       "    }\n",
       "\n",
       "    .dataframe tbody tr th {\n",
       "        vertical-align: top;\n",
       "    }\n",
       "\n",
       "    .dataframe thead th {\n",
       "        text-align: right;\n",
       "    }\n",
       "</style>\n",
       "<table border=\"1\" class=\"dataframe\">\n",
       "  <thead>\n",
       "    <tr style=\"text-align: right;\">\n",
       "      <th></th>\n",
       "      <th>f</th>\n",
       "      <th>coeff</th>\n",
       "    </tr>\n",
       "  </thead>\n",
       "  <tbody>\n",
       "    <tr>\n",
       "      <th>0</th>\n",
       "      <td>SibSp</td>\n",
       "      <td>-0.113834</td>\n",
       "    </tr>\n",
       "    <tr>\n",
       "      <th>1</th>\n",
       "      <td>Parch</td>\n",
       "      <td>-0.013672</td>\n",
       "    </tr>\n",
       "    <tr>\n",
       "      <th>2</th>\n",
       "      <td>Pclass_1</td>\n",
       "      <td>-0.990080</td>\n",
       "    </tr>\n",
       "    <tr>\n",
       "      <th>3</th>\n",
       "      <td>Pclass_2</td>\n",
       "      <td>0.952025</td>\n",
       "    </tr>\n",
       "    <tr>\n",
       "      <th>4</th>\n",
       "      <td>Embarked_S</td>\n",
       "      <td>-0.287122</td>\n",
       "    </tr>\n",
       "    <tr>\n",
       "      <th>5</th>\n",
       "      <td>Embarked_C</td>\n",
       "      <td>-1.579732</td>\n",
       "    </tr>\n",
       "    <tr>\n",
       "      <th>6</th>\n",
       "      <td>Male</td>\n",
       "      <td>-0.955783</td>\n",
       "    </tr>\n",
       "    <tr>\n",
       "      <th>7</th>\n",
       "      <td>Age_N</td>\n",
       "      <td>0.545415</td>\n",
       "    </tr>\n",
       "    <tr>\n",
       "      <th>8</th>\n",
       "      <td>Fare_Log</td>\n",
       "      <td>0.366747</td>\n",
       "    </tr>\n",
       "    <tr>\n",
       "      <th>9</th>\n",
       "      <td>Intercept</td>\n",
       "      <td>-1.047828</td>\n",
       "    </tr>\n",
       "  </tbody>\n",
       "</table>\n",
       "</div>"
      ],
      "text/plain": [
       "            f     coeff\n",
       "0       SibSp -0.113834\n",
       "1       Parch -0.013672\n",
       "2    Pclass_1 -0.990080\n",
       "3    Pclass_2  0.952025\n",
       "4  Embarked_S -0.287122\n",
       "5  Embarked_C -1.579732\n",
       "6        Male -0.955783\n",
       "7       Age_N  0.545415\n",
       "8    Fare_Log  0.366747\n",
       "9   Intercept -1.047828"
      ]
     },
     "execution_count": 57,
     "metadata": {},
     "output_type": "execute_result"
    }
   ],
   "source": [
    "fimp = pd.DataFrame({'f':feature_names,'coeff':model.relu_params.detach().numpy().reshape((-1,))})\n",
    "fimp"
   ]
  },
  {
   "cell_type": "code",
   "execution_count": 58,
   "id": "ddc3450d-02b9-46da-8d14-06510df4a485",
   "metadata": {},
   "outputs": [
    {
     "data": {
      "text/plain": [
       "<AxesSubplot:xlabel='iter'>"
      ]
     },
     "execution_count": 58,
     "metadata": {},
     "output_type": "execute_result"
    },
    {
     "data": {
      "image/png": "[encoded data removed]",
      "text/plain": [
       "<Figure size 432x288 with 1 Axes>"
      ]
     },
     "metadata": {
      "needs_background": "light"
     },
     "output_type": "display_data"
    }
   ],
   "source": [
    "trace_df.plot()"
   ]
  },
  {
   "cell_type": "code",
   "execution_count": 59,
   "id": "c148c174-1ec5-45d8-9836-6cd5a9f74983",
   "metadata": {},
   "outputs": [
    {
     "data": {
      "text/plain": [
       "count    712.000000\n",
       "mean       0.088140\n",
       "std        0.258782\n",
       "min        0.000000\n",
       "25%        0.000000\n",
       "50%        0.000000\n",
       "75%        0.000000\n",
       "max        1.339687\n",
       "Name: score, dtype: float64"
      ]
     },
     "metadata": {},
     "output_type": "display_data"
    },
    {
     "data": {
      "text/plain": [
       "<AxesSubplot:>"
      ]
     },
     "execution_count": 59,
     "metadata": {},
     "output_type": "execute_result"
    },
    {
     "data": {
      "image/png": "[encoded data removed]",
      "text/plain": [
       "<Figure size 432x288 with 1 Axes>"
      ]
     },
     "metadata": {
      "needs_background": "light"
     },
     "output_type": "display_data"
    }
   ],
   "source": [
    "df['score'] = model.apply(Xt).detach().numpy().reshape((-1,))\n",
    "display(df['score'].describe())\n",
    "df['score'].hist()"
   ]
  },
  {
   "cell_type": "code",
   "execution_count": 60,
   "id": "ac0a6d9e-8475-46c3-876d-b6791ee8962e",
   "metadata": {},
   "outputs": [
    {
     "name": "stdout",
     "output_type": "stream",
     "text": [
      "accuracy 0.672752808988764\n"
     ]
    }
   ],
   "source": [
    "df['predicted'] = (df['score'] > 0.5).astype(int)\n",
    "print(\"accuracy\",(df['Survived'] == df['predicted']).mean())"
   ]
  },
  {
   "cell_type": "markdown",
   "id": "890f74ae-fb00-4db4-8b08-00c826fa9475",
   "metadata": {},
   "source": [
    "## 4.2 Gradient descent with multiple weighted ReLu's"
   ]
  },
  {
   "cell_type": "markdown",
   "id": "8503207d-9a86-423a-b955-62ab6c1d04e0",
   "metadata": {},
   "source": [
    "### 4.2.1 test the model"
   ]
  },
  {
   "cell_type": "code",
   "execution_count": 61,
   "id": "d0ee88ba-ad88-481c-8384-6b605e36f43b",
   "metadata": {},
   "outputs": [],
   "source": [
    "# introduce class for a model, so we can experiment with different internals but the same optmisation loop\n",
    "class MutipleReluModel:\n",
    "    def __init__(self, relu_params, weights):\n",
    "        if relu_params.shape[1] != weights.shape[0]:\n",
    "            raise ValueError(\"Number of parameters doesn't match weights\")\n",
    "        self.relu_params = relu_params\n",
    "        self.weights = weights\n",
    "        \n",
    "    def apply(self, X):\n",
    "        return relu(self.relu_params, X) @ self.weights\n",
    "    \n",
    "    def update_params(self, learning_rate):\n",
    "        with torch.no_grad():\n",
    "            self.relu_params -= self.relu_params.grad * learning_rate\n",
    "            self.weights -= self.weights.grad * learning_rate\n",
    "        self.relu_params.grad.zero_()\n",
    "        self.weights.grad.zero_()"
   ]
  },
  {
   "cell_type": "code",
   "execution_count": 62,
   "id": "0ec40935-c7b1-4cf2-a7fb-ee72b75611b8",
   "metadata": {},
   "outputs": [
    {
     "data": {
      "text/plain": [
       "tensor([[0., 1., 0.],\n",
       "        [1., 0., 1.]], dtype=torch.float64)"
      ]
     },
     "execution_count": 62,
     "metadata": {},
     "output_type": "execute_result"
    }
   ],
   "source": [
    "x_test = torch.tensor([[0.,1.,0.],[1, 0, 1]], dtype=torch.float64)\n",
    "x_test"
   ]
  },
  {
   "cell_type": "code",
   "execution_count": 63,
   "id": "af3584cd-90c2-47bb-8653-39dcc0d6b1ca",
   "metadata": {},
   "outputs": [
    {
     "data": {
      "text/plain": [
       "tensor([[  1.,  10.],\n",
       "        [  2., -20.],\n",
       "        [ -3.,  30.]], dtype=torch.float64)"
      ]
     },
     "execution_count": 63,
     "metadata": {},
     "output_type": "execute_result"
    }
   ],
   "source": [
    "relu_test = torch.tensor(np.reshape([[1.,2.,-3., 10, -20, 30]], newshape=(3,2), order='F'), dtype=torch.float64)\n",
    "relu_test"
   ]
  },
  {
   "cell_type": "code",
   "execution_count": 64,
   "id": "06e45a4a-847d-4ad7-8a4f-002c2967d074",
   "metadata": {},
   "outputs": [],
   "source": [
    "w_test = torch.tensor([[1],[0.1]], dtype=torch.float64)"
   ]
  },
  {
   "cell_type": "code",
   "execution_count": 65,
   "id": "be03c2ce-6a15-4b6a-8954-d05c2285ec60",
   "metadata": {},
   "outputs": [
    {
     "data": {
      "text/plain": [
       "tensor([[2.],\n",
       "        [4.]], dtype=torch.float64)"
      ]
     },
     "execution_count": 65,
     "metadata": {},
     "output_type": "execute_result"
    }
   ],
   "source": [
    "relu(relu_test, x_test) @ w_test"
   ]
  },
  {
   "cell_type": "code",
   "execution_count": 66,
   "id": "98393fcd-2686-41b9-8dee-a689663adfc1",
   "metadata": {},
   "outputs": [],
   "source": [
    "m_test = MutipleReluModel(relu_test, w_test)"
   ]
  },
  {
   "cell_type": "code",
   "execution_count": 67,
   "id": "01d138f6-1f67-447e-b271-f5264e893bb3",
   "metadata": {},
   "outputs": [
    {
     "data": {
      "text/plain": [
       "tensor([[2.],\n",
       "        [4.]], dtype=torch.float64)"
      ]
     },
     "execution_count": 67,
     "metadata": {},
     "output_type": "execute_result"
    }
   ],
   "source": [
    "y_pred_test = m_test.apply(x_test)\n",
    "y_pred_test"
   ]
  },
  {
   "cell_type": "code",
   "execution_count": 68,
   "id": "57d23e1f-5865-418b-9273-79013d63d347",
   "metadata": {},
   "outputs": [],
   "source": [
    "assert y_pred_test.equal(torch.tensor([[2],[4]], dtype=torch.float64))"
   ]
  },
  {
   "cell_type": "markdown",
   "id": "1570983b-c3f3-4eab-ae02-fb4a5425f700",
   "metadata": {},
   "source": [
    "### 4.2.2 optimisation loop"
   ]
  },
  {
   "cell_type": "code",
   "execution_count": 69,
   "id": "9ef72f03-b18b-43bd-a98d-b83517fc9f10",
   "metadata": {},
   "outputs": [],
   "source": [
    "np.random.seed(42)\n",
    "N_RELU = 2\n",
    "relu_params = torch.tensor(np.random.normal(size=(n_features, N_RELU)), requires_grad=True)\n",
    "weight_params = torch.tensor(np.random.normal(size=(N_RELU, 1)), requires_grad=True)"
   ]
  },
  {
   "cell_type": "code",
   "execution_count": 70,
   "id": "766a591a-f5b3-4d30-a7f6-410f7292167e",
   "metadata": {},
   "outputs": [],
   "source": [
    "model_nr = MutipleReluModel(relu_params, weight_params)"
   ]
  },
  {
   "cell_type": "code",
   "execution_count": 71,
   "id": "8c9091a7-1bc0-48c4-8139-ec0878fab5a8",
   "metadata": {},
   "outputs": [
    {
     "name": "stdout",
     "output_type": "stream",
     "text": [
      "# 0: loss: 0.51127\n",
      "# 100: loss: 0.32784\n",
      "# 200: loss: 0.29540\n",
      "# 300: loss: 0.27046\n",
      "# 400: loss: 0.25225\n",
      "# 500: loss: 0.24275\n",
      "# 600: loss: 0.23775\n",
      "# 700: loss: 0.23533\n",
      "# 800: loss: 0.23353\n",
      "# 900: loss: 0.23191\n"
     ]
    },
    {
     "data": {
      "text/plain": [
       "<AxesSubplot:xlabel='iter'>"
      ]
     },
     "execution_count": 71,
     "metadata": {},
     "output_type": "execute_result"
    },
    {
     "data": {
      "image/png": "[encoded data removed]",
      "text/plain": [
       "<Figure size 432x288 with 1 Axes>"
      ]
     },
     "metadata": {
      "needs_background": "light"
     },
     "output_type": "display_data"
    }
   ],
   "source": [
    "n_epochs = 1000\n",
    "learning_rate = 0.1\n",
    "learning_trace = []\n",
    "for i in range(n_epochs):\n",
    "    y_pred = model_nr.apply(Xt)\n",
    "    loss = mae_loss(yt, y_pred)\n",
    "    loss.backward()\n",
    "    model_nr.update_params(learning_rate)\n",
    "    if i%100 == 0:\n",
    "        print(f\"# {i}: loss: {loss:.5f}\")\n",
    "    loss_val = loss.detach().numpy().tolist()\n",
    "    learning_trace.append((i,loss_val))\n",
    "trace_df = pd.DataFrame.from_records(learning_trace, columns=['iter','loss']).set_index('iter')\n",
    "trace_df.plot()"
   ]
  },
  {
   "cell_type": "code",
   "execution_count": 72,
   "id": "5dd5185d-f745-43d6-b076-910f041d03ff",
   "metadata": {},
   "outputs": [
    {
     "data": {
      "text/plain": [
       "tensor([[1.4656],\n",
       "        [0.4851]], dtype=torch.float64, requires_grad=True)"
      ]
     },
     "execution_count": 72,
     "metadata": {},
     "output_type": "execute_result"
    }
   ],
   "source": [
    "model_nr.weights"
   ]
  },
  {
   "cell_type": "code",
   "execution_count": 73,
   "id": "d8c40311-3010-4301-9945-aa30739ca815",
   "metadata": {},
   "outputs": [
    {
     "data": {
      "text/plain": [
       "count    712.000000\n",
       "mean       0.254325\n",
       "std        0.408563\n",
       "min        0.000000\n",
       "25%        0.000000\n",
       "50%        0.000000\n",
       "75%        0.323236\n",
       "max        1.569779\n",
       "Name: score, dtype: float64"
      ]
     },
     "metadata": {},
     "output_type": "display_data"
    },
    {
     "data": {
      "text/plain": [
       "<AxesSubplot:>"
      ]
     },
     "execution_count": 73,
     "metadata": {},
     "output_type": "execute_result"
    },
    {
     "data": {
      "image/png": "[encoded data removed]",
      "text/plain": [
       "<Figure size 432x288 with 1 Axes>"
      ]
     },
     "metadata": {
      "needs_background": "light"
     },
     "output_type": "display_data"
    }
   ],
   "source": [
    "df['score'] = model_nr.apply(Xt).detach().numpy().reshape((-1,))\n",
    "display(df['score'].describe())\n",
    "df['score'].hist()"
   ]
  },
  {
   "cell_type": "code",
   "execution_count": 74,
   "id": "d74ec328-32cc-4fc7-8bb2-619aadb4f06f",
   "metadata": {},
   "outputs": [
    {
     "name": "stdout",
     "output_type": "stream",
     "text": [
      "accuracy 0.7907303370786517\n"
     ]
    }
   ],
   "source": [
    "df['predicted'] = (df['score'] > 0.5).astype(int)\n",
    "print(\"accuracy\",(df['Survived'] == df['predicted']).mean())"
   ]
  },
  {
   "cell_type": "markdown",
   "id": "90b6a486-76a0-4bee-9653-0c29cdf93e7a",
   "metadata": {},
   "source": [
    "# 5. Numpy + Scipy solver"
   ]
  },
  {
   "cell_type": "code",
   "execution_count": 75,
   "id": "5f257f26-9662-4676-9765-846e7b44c0c0",
   "metadata": {},
   "outputs": [],
   "source": [
    "from scipy.optimize import minimize"
   ]
  },
  {
   "cell_type": "markdown",
   "id": "e53e8fea-76ac-4688-9006-c89eea61157c",
   "metadata": {},
   "source": [
    "## 5.1 solver primer with a vector"
   ]
  },
  {
   "cell_type": "code",
   "execution_count": 76,
   "id": "a0265d16-d126-47f8-919c-6f6b4ab02d02",
   "metadata": {},
   "outputs": [],
   "source": [
    "def f(x):\n",
    "    return (x[0]-1)**2 + (x[1]-2)**2 "
   ]
  },
  {
   "cell_type": "code",
   "execution_count": 77,
   "id": "c6513b48-8950-463d-8122-b0e11b94ac8f",
   "metadata": {},
   "outputs": [
    {
     "data": {
      "text/plain": [
       "      fun: 2.1469322675083307e-15\n",
       " hess_inv: array([[ 0.98076923, -0.09615385],\n",
       "       [-0.09615385,  0.51923077]])\n",
       "      jac: array([-7.72782467e-08,  5.37825051e-09])\n",
       "  message: 'Optimization terminated successfully.'\n",
       "     nfev: 9\n",
       "      nit: 2\n",
       "     njev: 3\n",
       "   status: 0\n",
       "  success: True\n",
       "        x: array([0.99999995, 2.        ])"
      ]
     },
     "execution_count": 77,
     "metadata": {},
     "output_type": "execute_result"
    }
   ],
   "source": [
    "res = minimize(f, np.array([0.5, -0.5]))\n",
    "res"
   ]
  },
  {
   "cell_type": "markdown",
   "id": "04cd6f92-c9b4-41cf-bac5-f9ac891c5190",
   "metadata": {},
   "source": [
    "## 5.2 Single layer"
   ]
  },
  {
   "cell_type": "code",
   "execution_count": 78,
   "id": "bb888ffe-8c7b-494e-b6de-37a499618e50",
   "metadata": {},
   "outputs": [],
   "source": [
    "def relu_np(params, X):\n",
    "    return np.clip(np.dot(X , params), 0, None)"
   ]
  },
  {
   "cell_type": "code",
   "execution_count": 79,
   "id": "e7cd9020-5b9d-4553-a372-eb7e861e8c75",
   "metadata": {},
   "outputs": [],
   "source": [
    "def mae_loss_np(y_true, y_pred):\n",
    "    assert y_true.shape == y_pred.shape\n",
    "    return np.abs(y_true - y_pred).mean()"
   ]
  },
  {
   "cell_type": "code",
   "execution_count": 80,
   "id": "492f98a6-8e4d-4b18-8f7e-ccc5f3a9b30d",
   "metadata": {},
   "outputs": [
    {
     "data": {
      "text/plain": [
       "(712, 10)"
      ]
     },
     "execution_count": 80,
     "metadata": {},
     "output_type": "execute_result"
    }
   ],
   "source": [
    "X.shape"
   ]
  },
  {
   "cell_type": "code",
   "execution_count": 81,
   "id": "7ba60f47-fab5-47f3-9387-1eb5e6de8d3b",
   "metadata": {},
   "outputs": [
    {
     "data": {
      "text/plain": [
       "(712,)"
      ]
     },
     "execution_count": 81,
     "metadata": {},
     "output_type": "execute_result"
    }
   ],
   "source": [
    "y.shape"
   ]
  },
  {
   "cell_type": "code",
   "execution_count": 82,
   "id": "a2f4c520-658c-4012-bd05-150382b05fb5",
   "metadata": {},
   "outputs": [
    {
     "data": {
      "text/plain": [
       "array([ 0.05056171,  0.49995133, -0.99590893,  0.69359851, -0.41830152,\n",
       "       -1.58457724, -0.64770677,  0.59857517,  0.33225003, -1.14747663])"
      ]
     },
     "execution_count": 82,
     "metadata": {},
     "output_type": "execute_result"
    }
   ],
   "source": [
    "np.random.seed(4)\n",
    "m_params = np.random.normal(size=n_features)\n",
    "m_params"
   ]
  },
  {
   "cell_type": "code",
   "execution_count": 100,
   "id": "d75545e5-ed63-4419-a047-fc2eeb174d8b",
   "metadata": {},
   "outputs": [],
   "source": [
    "def loss_to_minimise(params_vect):\n",
    "    # I use global variables for simplicity\n",
    "    # in real life it's better to create partial(calc_loss, X, y)\n",
    "    m_params = params_vect.reshape((-1,1))\n",
    "    y_pred = relu_np(m_params, X)\n",
    "    loss = mae_loss_np(y, y_pred.reshape(-1))\n",
    "    return loss"
   ]
  },
  {
   "cell_type": "code",
   "execution_count": 101,
   "id": "4936796a-0f1e-475b-82f1-73dd94671259",
   "metadata": {},
   "outputs": [
    {
     "data": {
      "text/plain": [
       "(712,)"
      ]
     },
     "execution_count": 101,
     "metadata": {},
     "output_type": "execute_result"
    }
   ],
   "source": [
    "y.shape"
   ]
  },
  {
   "cell_type": "code",
   "execution_count": 102,
   "id": "17b177dc-7d33-4499-948f-e4e60a968fff",
   "metadata": {},
   "outputs": [
    {
     "data": {
      "text/plain": [
       "0.40884744844451937"
      ]
     },
     "execution_count": 102,
     "metadata": {},
     "output_type": "execute_result"
    }
   ],
   "source": [
    "loss_to_minimise(m_params)"
   ]
  },
  {
   "cell_type": "code",
   "execution_count": 103,
   "id": "3b47571c-f004-46a4-9fbb-70867eb8b0cd",
   "metadata": {},
   "outputs": [],
   "source": [
    "solution = minimize(loss_to_minimise, m_params, tol=1e-4)"
   ]
  },
  {
   "cell_type": "code",
   "execution_count": 104,
   "id": "90cc4c32-db4a-4ccd-b1ad-c9e06c344527",
   "metadata": {},
   "outputs": [
    {
     "data": {
      "text/plain": [
       "      fun: 0.22231149710821868\n",
       " hess_inv: array([[ 4.44238581e-03,  1.70567880e-05, -1.09936480e+00,\n",
       "         1.34711304e+00, -3.30569024e+00, -3.28421461e+00,\n",
       "         7.80337515e+00,  1.81578070e-01,  4.04260736e-03,\n",
       "         1.88669511e+00],\n",
       "       [ 1.70567880e-05,  1.70459200e-03, -3.87162577e-01,\n",
       "         4.72449473e-01, -1.15965846e+00, -1.14280120e+00,\n",
       "         2.74261469e+00,  6.63648094e-02,  6.08160441e-04,\n",
       "         6.62351642e-01],\n",
       "       [-1.09936480e+00, -3.87162577e-01,  6.30677801e+02,\n",
       "        -7.67694929e+02,  1.88824392e+03,  1.87880710e+03,\n",
       "        -4.47072459e+03, -1.05145342e+02, -3.00737840e+00,\n",
       "        -1.07685214e+03],\n",
       "       [ 1.34711304e+00,  4.72449473e-01, -7.67694929e+02,\n",
       "         9.36823842e+02, -2.30278391e+03, -2.29121745e+03,\n",
       "         5.45044808e+03,  1.28179279e+02,  3.65578866e+00,\n",
       "         1.31272374e+03],\n",
       "       [-3.30569024e+00, -1.15965846e+00,  1.88824392e+03,\n",
       "        -2.30278391e+03,  5.66365739e+03,  5.63532716e+03,\n",
       "        -1.34063322e+04, -3.15298052e+02, -9.01127903e+00,\n",
       "        -3.22986588e+03],\n",
       "       [-3.28421461e+00, -1.14280120e+00,  1.87880710e+03,\n",
       "        -2.29121745e+03,  5.63532716e+03,  5.60738845e+03,\n",
       "        -1.33394776e+04, -3.13713988e+02, -9.00006463e+00,\n",
       "        -3.21367212e+03],\n",
       "       [ 7.80337515e+00,  2.74261469e+00, -4.47072459e+03,\n",
       "         5.45044808e+03, -1.34063322e+04, -1.33394776e+04,\n",
       "         3.17433099e+04,  7.46516379e+02,  2.13714485e+01,\n",
       "         7.64559351e+03],\n",
       "       [ 1.81578070e-01,  6.63648094e-02, -1.05145342e+02,\n",
       "         1.28179279e+02, -3.15298052e+02, -3.13713988e+02,\n",
       "         7.46516379e+02,  1.75876939e+01,  5.03318091e-01,\n",
       "         1.79804725e+02],\n",
       "       [ 4.04260736e-03,  6.08160441e-04, -3.00737840e+00,\n",
       "         3.65578866e+00, -9.01127903e+00, -9.00006463e+00,\n",
       "         2.13714485e+01,  5.03318091e-01,  1.92424124e-02,\n",
       "         5.13326109e+00],\n",
       "       [ 1.88669511e+00,  6.62351642e-01, -1.07685214e+03,\n",
       "         1.31272374e+03, -3.22986588e+03, -3.21367212e+03,\n",
       "         7.64559351e+03,  1.79804725e+02,  5.13326109e+00,\n",
       "         1.84244857e+03]])\n",
       "      jac: array([ 0.03511236,  0.05196629, -0.00842697, -0.01825843,  0.00842697,\n",
       "       -0.0238764 ,  0.        , -0.02878335, -0.04790623, -0.01544944])\n",
       "  message: 'Desired error not necessarily achieved due to precision loss.'\n",
       "     nfev: 2124\n",
       "      nit: 53\n",
       "     njev: 192\n",
       "   status: 2\n",
       "  success: False\n",
       "        x: array([ 1.56000457e-03,  1.32185957e-03,  6.53368079e-01,  6.06498770e-01,\n",
       "        2.75931452e+00,  2.73462553e+00, -1.23108262e+01, -2.29061065e-01,\n",
       "       -1.56381639e-02, -2.24614458e+00])"
      ]
     },
     "execution_count": 104,
     "metadata": {},
     "output_type": "execute_result"
    }
   ],
   "source": [
    "solution"
   ]
  },
  {
   "cell_type": "code",
   "execution_count": 105,
   "id": "70c5f8f8-da53-4f09-a3d3-d1a116491643",
   "metadata": {},
   "outputs": [
    {
     "data": {
      "text/plain": [
       "array([ 1.56000457e-03,  1.32185957e-03,  6.53368079e-01,  6.06498770e-01,\n",
       "        2.75931452e+00,  2.73462553e+00, -1.23108262e+01, -2.29061065e-01,\n",
       "       -1.56381639e-02, -2.24614458e+00])"
      ]
     },
     "execution_count": 105,
     "metadata": {},
     "output_type": "execute_result"
    }
   ],
   "source": [
    "solution.x"
   ]
  },
  {
   "cell_type": "code",
   "execution_count": 106,
   "id": "973e5865-f793-4611-a916-d6bcb7ce3e1f",
   "metadata": {},
   "outputs": [
    {
     "name": "stdout",
     "output_type": "stream",
     "text": [
      "Final loss: 0.22231149710821868\n"
     ]
    }
   ],
   "source": [
    "# solution is quite sensitive to the initial guess (random seed)\n",
    "print(\"Final loss:\",loss_to_minimise(solution.x))"
   ]
  },
  {
   "cell_type": "code",
   "execution_count": 107,
   "id": "954e3b86-f2d6-493a-b8c4-1c11bb790360",
   "metadata": {},
   "outputs": [],
   "source": [
    "params_optimised = solution.x.reshape((-1,1))"
   ]
  },
  {
   "cell_type": "code",
   "execution_count": 108,
   "id": "5fb43a3b-d675-482f-897d-a9bd4d0db3f5",
   "metadata": {},
   "outputs": [
    {
     "data": {
      "text/plain": [
       "count    712.000000\n",
       "mean       0.267802\n",
       "std        0.403966\n",
       "min        0.000000\n",
       "25%        0.000000\n",
       "50%        0.000000\n",
       "75%        0.432725\n",
       "max        1.086394\n",
       "Name: score, dtype: float64"
      ]
     },
     "metadata": {},
     "output_type": "display_data"
    },
    {
     "data": {
      "text/plain": [
       "<AxesSubplot:>"
      ]
     },
     "execution_count": 108,
     "metadata": {},
     "output_type": "execute_result"
    },
    {
     "data": {
      "image/png": "[encoded data removed]",
      "text/plain": [
       "<Figure size 432x288 with 1 Axes>"
      ]
     },
     "metadata": {
      "needs_background": "light"
     },
     "output_type": "display_data"
    }
   ],
   "source": [
    "df['score'] = relu_np(params_optimised, X)\n",
    "display(df['score'].describe())\n",
    "df['score'].hist()"
   ]
  },
  {
   "cell_type": "code",
   "execution_count": 109,
   "id": "7f0a6be4-90c7-4b15-949f-26d53e56500f",
   "metadata": {},
   "outputs": [
    {
     "name": "stdout",
     "output_type": "stream",
     "text": [
      "accuracy 0.7879213483146067\n"
     ]
    }
   ],
   "source": [
    "df['predicted'] = (df['score'] > 0.5).astype(int)\n",
    "print(\"accuracy\",(df['Survived'] == df['predicted']).mean())"
   ]
  },
  {
   "cell_type": "code",
   "execution_count": null,
   "id": "bd4b98c1-0e9d-4ed9-8fce-0b21c3ed34cc",
   "metadata": {},
   "outputs": [],
   "source": []
  }
 ],
 "metadata": {
  "kernelspec": {
   "display_name": "Python 3 (ipykernel)",
   "language": "python",
   "name": "python3"
  },
  "language_info": {
   "codemirror_mode": {
    "name": "ipython",
    "version": 3
   },
   "file_extension": ".py",
   "mimetype": "text/x-python",
   "name": "python",
   "nbconvert_exporter": "python",
   "pygments_lexer": "ipython3",
   "version": "3.9.13"
  }
 },
 "nbformat": 4,
 "nbformat_minor": 5
}
