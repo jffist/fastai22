{
 "cells": [
  {
   "cell_type": "code",
   "execution_count": 5,
   "id": "ada1a950-0186-4b3b-8625-a91e9ff35370",
   "metadata": {},
   "outputs": [],
   "source": [
    "from ipywidgets import interact\n",
    "import matplotlib.pyplot as plt\n",
    "%matplotlib inline"
   ]
  },
  {
   "cell_type": "code",
   "execution_count": 269,
   "id": "ee553ab4-a904-4410-930f-b660ab67a4a3",
   "metadata": {},
   "outputs": [],
   "source": [
    "import numpy as np\n",
    "import pandas as pd\n",
    "import torch"
   ]
  },
  {
   "cell_type": "code",
   "execution_count": 36,
   "id": "d4cd731e-608d-4431-92ab-6af7aaff0c4a",
   "metadata": {},
   "outputs": [],
   "source": [
    "from functools import partial"
   ]
  },
  {
   "cell_type": "markdown",
   "id": "07293b45-5cfa-48ae-9249-d7aea14ba4bc",
   "metadata": {},
   "source": [
    "# Plotting function"
   ]
  },
  {
   "cell_type": "code",
   "execution_count": 65,
   "id": "3b5c3a8b-24dd-43ae-aaea-0fe494619197",
   "metadata": {},
   "outputs": [],
   "source": [
    "def plot_func(f, title=None, min_x=-3, max_x=3, ylim=None):\n",
    "    x = torch.linspace(min_x, max_x, 100)\n",
    "    plt.plot(x, f(x), color='red')\n",
    "    if ylim: plt.ylim(*ylim)\n",
    "    if title: plt.title(title)"
   ]
  },
  {
   "cell_type": "code",
   "execution_count": 66,
   "id": "ce40e903-c632-4cb6-b4e0-c918e7d3ab2b",
   "metadata": {},
   "outputs": [],
   "source": [
    "def f(x):\n",
    "    return 0.5*x**3 - 3*x**2 + 2*x + 1"
   ]
  },
  {
   "cell_type": "code",
   "execution_count": 67,
   "id": "9fdf5b27-d66d-46e0-8993-4138c04a4f10",
   "metadata": {},
   "outputs": [
    {
     "data": {
      "image/png": "[encoded data removed]",
      "text/plain": [
       "<Figure size 432x288 with 1 Axes>"
      ]
     },
     "metadata": {
      "needs_background": "light"
     },
     "output_type": "display_data"
    }
   ],
   "source": [
    "plot_func(f, \"$0.5x^3 - 3x^2 + 2x+ 1$\", -1, 1)"
   ]
  },
  {
   "cell_type": "markdown",
   "id": "0b7af179-c279-4bd5-85de-b0520041b07d",
   "metadata": {},
   "source": [
    "# Model architecutre"
   ]
  },
  {
   "cell_type": "code",
   "execution_count": 78,
   "id": "41f9efcc-043d-4cb2-9114-5756c8f4fb03",
   "metadata": {},
   "outputs": [],
   "source": [
    "# true function that we want to reconstruct, takes params and input:x\n",
    "def polynom3(a3, a2, a1, a0, x):\n",
    "    return a3*x**3 + a2*x**2 + a1*x + a0"
   ]
  },
  {
   "cell_type": "code",
   "execution_count": 80,
   "id": "6c822496-2dd5-4409-801a-3a1e48a24e49",
   "metadata": {},
   "outputs": [],
   "source": [
    "# helper function to generate \"model instance\" with fixed weights so we can apply it to the input:x\n",
    "# return function that takes single input:x\n",
    "def make_pol3(a3, a2, a1, a0):\n",
    "    return partial(polynom3, a3, a2, a1, a0) "
   ]
  },
  {
   "cell_type": "markdown",
   "id": "0d4b7d3c-f9f5-4dc7-9e36-b4ca65cfa8be",
   "metadata": {},
   "source": [
    "# Select shape of function that I like "
   ]
  },
  {
   "cell_type": "code",
   "execution_count": 146,
   "id": "3e20e9ac-af3f-4e30-822d-d253d5ebd5c5",
   "metadata": {},
   "outputs": [
    {
     "name": "stdout",
     "output_type": "stream",
     "text": [
      "$x^3 + 2x^2 - x + 10$\n",
      "$-3x^3 + 5x - 1$\n",
      "$x^3 + 2x^2 - x + 10$\n",
      "$-2.43x^2 + 5x - 1$\n"
     ]
    }
   ],
   "source": [
    "def format_polynom_part(coefficient, power, is_first_nonzero_term):\n",
    "    if coefficient == 0:\n",
    "        return \"\"\n",
    "    sign = \"-\" if coefficient < 0 else \"+\" if not is_first_nonzero_term else \"\"\n",
    "    coeff_str = \"\" if abs(coefficient) == 1 and power != 0 else f\"{abs(coefficient):.2f}\".rstrip('0').rstrip('.')\n",
    "    space = \" \" if not is_first_nonzero_term or sign == \"+\" else \"\"\n",
    "    term = f\"{sign}{space}{coeff_str}{'x' if power else ''}{'^' + str(power) if power > 1 else ''}\".strip()\n",
    "    return term\n",
    "\n",
    "def format_cubic_polynomial(a3, a2, a1, a0):\n",
    "    coefficients = [a3, a2, a1, a0]\n",
    "    terms = []\n",
    "    first_nonzero_found = False\n",
    "\n",
    "    for i, coeff in enumerate(coefficients):\n",
    "        power = len(coefficients) - i - 1\n",
    "        if coeff != 0 and not first_nonzero_found:\n",
    "            first_nonzero_found = True\n",
    "            terms.append(format_polynom_part(coeff, power, True))\n",
    "        else:\n",
    "            terms.append(format_polynom_part(coeff, power, False))\n",
    "\n",
    "    res = \" \".join(filter(None, terms))\n",
    "    return f\"${res}$\"\n",
    "\n",
    "# Example usage\n",
    "print(format_cubic_polynomial(1, 2, -1, 10))  # Output: \"x^3 + 2x^2 - x + 10\"\n",
    "print(format_cubic_polynomial(-3, 0, 5, -1))  # Output: \"-3x^3 + 5x - 1\"\n",
    "print(format_cubic_polynomial(1, 2, -1, 10))  # Output: x^3 + 2.00x^2 - x + 10.00\n",
    "print(format_cubic_polynomial(0, -2.4345, 5, -1))  # Output: -2.43x^2 + 5.00x - 1.00"
   ]
  },
  {
   "cell_type": "code",
   "execution_count": 148,
   "id": "dede8a4a-44ce-49f4-86ab-448957af4c3d",
   "metadata": {},
   "outputs": [
    {
     "data": {
      "application/vnd.jupyter.widget-view+json": {
       "model_id": "9322e208722e4c388f7e73e7e46d17f6",
       "version_major": 2,
       "version_minor": 0
      },
      "text/plain": [
       "interactive(children=(FloatSlider(value=0.25, description='a3', max=3.0, min=-3.0, step=0.05), FloatSlider(val…"
      ]
     },
     "metadata": {},
     "output_type": "display_data"
    }
   ],
   "source": [
    "@interact(\n",
    "    a3=(-3,3,0.05),\n",
    "    a2=(-3,3,0.05),\n",
    "    a1=(-3,3,0.05),\n",
    "    a0=(-3,3,0.05),\n",
    ")\n",
    "def choose_params(a3=.25, a2=-.15, a1=-1.45, a0=1.5):\n",
    "    f = make_pol3(a3, a2, a1, a0)\n",
    "    plot_func(f, format_cubic_polynomial(a3, a2, a1, a0))"
   ]
  },
  {
   "cell_type": "code",
   "execution_count": 149,
   "id": "0c8c9ea5-bc31-4ac8-b1e9-11dc1a526846",
   "metadata": {},
   "outputs": [],
   "source": [
    "# model params that we want to reconstruct\n",
    "hiddent_actual_params = [0.25, -0.15, -1.45, 1.5]"
   ]
  },
  {
   "cell_type": "code",
   "execution_count": 150,
   "id": "ebb1c9b6-9b02-407b-b176-be130368637a",
   "metadata": {},
   "outputs": [],
   "source": [
    "hidden_function = make_pol3(*hiddent_actual_params)\n",
    "hidden_func_title = format_cubic_polynomial(*hiddent_actual_params)"
   ]
  },
  {
   "cell_type": "code",
   "execution_count": 151,
   "id": "593f4311-3d5a-496c-99d9-a8c95b822f21",
   "metadata": {},
   "outputs": [
    {
     "data": {
      "image/png": "[encoded data removed]",
      "text/plain": [
       "<Figure size 432x288 with 1 Axes>"
      ]
     },
     "metadata": {
      "needs_background": "light"
     },
     "output_type": "display_data"
    }
   ],
   "source": [
    "plot_func(hidden_function, f\"Hidden function: {hidden_func_title}\")"
   ]
  },
  {
   "cell_type": "markdown",
   "id": "110ba50c-9966-41fd-bc2b-664b0281cc87",
   "metadata": {},
   "source": [
    "# Generate \"training\" data\n",
    "* use known function to generate data with addiitonal noise"
   ]
  },
  {
   "cell_type": "code",
   "execution_count": 152,
   "id": "e3a2154d-89d0-4eee-a21b-8a624f0c1932",
   "metadata": {},
   "outputs": [],
   "source": [
    "def noise(scale, x):\n",
    "    return np.random.normal(scale=scale, size=len(x))\n",
    "def add_noise(x, mul, add):\n",
    "    return x * (1 + noise(mul, x)) + noise(add, x)"
   ]
  },
  {
   "cell_type": "code",
   "execution_count": 153,
   "id": "48dff47b-4dcf-4108-9c57-481ada5ed26b",
   "metadata": {},
   "outputs": [
    {
     "data": {
      "text/plain": [
       "tensor([-0.1513,  1.1733,  2.3654,  3.0053,  3.5887,  4.8704,  6.9274,  8.1329,\n",
       "         9.9771,  7.6765,  8.4957], dtype=torch.float64)"
      ]
     },
     "execution_count": 153,
     "metadata": {},
     "output_type": "execute_result"
    }
   ],
   "source": [
    "add_noise(torch.linspace(0,10,11), 0.1, 0.3)"
   ]
  },
  {
   "cell_type": "code",
   "execution_count": 154,
   "id": "e51f5972-1f4d-4985-bcea-0dc976e68c5a",
   "metadata": {},
   "outputs": [
    {
     "data": {
      "text/plain": [
       "<matplotlib.collections.PathCollection at 0x7fbce0282790>"
      ]
     },
     "execution_count": 154,
     "metadata": {},
     "output_type": "execute_result"
    },
    {
     "data": {
      "image/png": "[encoded data removed]",
      "text/plain": [
       "<Figure size 432x288 with 1 Axes>"
      ]
     },
     "metadata": {
      "needs_background": "light"
     },
     "output_type": "display_data"
    }
   ],
   "source": [
    "n_examples = 30\n",
    "train_x_min = -3\n",
    "train_x_max = 3\n",
    "\n",
    "np.random.seed(1)\n",
    "\n",
    "train_x = torch.linspace(train_x_min, train_x_max, n_examples)\n",
    "train_y = add_noise(hidden_function(train_x), mul=0.2, add=.6)\n",
    "\n",
    "\n",
    "plot_func(hidden_function, f\"Hidden function: {hidden_func_title}\")\n",
    "plt.scatter(train_x, train_y, alpha=0.7)"
   ]
  },
  {
   "cell_type": "markdown",
   "id": "b6a6be93-666b-4f7f-b6b1-9afac511cc29",
   "metadata": {},
   "source": [
    "# Manual interactive fitting\n",
    "* plot train data points\n",
    "* use interactive plot of the function with manually selected parameters\n",
    "* output loss"
   ]
  },
  {
   "cell_type": "code",
   "execution_count": 161,
   "id": "edd6c96b-8321-4e03-b0f0-7e7fbbb180c5",
   "metadata": {},
   "outputs": [],
   "source": [
    "def mae_loss(y_true, y_pred):\n",
    "    return (y_true-y_pred).abs().mean()"
   ]
  },
  {
   "cell_type": "code",
   "execution_count": 165,
   "id": "563a1753-e35c-4dbe-8aa3-9eacfc9ebfea",
   "metadata": {},
   "outputs": [
    {
     "name": "stdout",
     "output_type": "stream",
     "text": [
      "Loss of actual function on train data: tensor(0.5020, dtype=torch.float64)\n"
     ]
    }
   ],
   "source": [
    "print(\"Loss of actual function on train data:\", mae_loss(train_y, hidden_function(train_x)))"
   ]
  },
  {
   "cell_type": "code",
   "execution_count": 170,
   "id": "3b6f24ac-f9c6-440b-8906-c5520fe31d38",
   "metadata": {},
   "outputs": [
    {
     "data": {
      "application/vnd.jupyter.widget-view+json": {
       "model_id": "ac9c8aee6eec43d4a1664a623d4a4eb2",
       "version_major": 2,
       "version_minor": 0
      },
      "text/plain": [
       "interactive(children=(FloatSlider(value=0.1, description='a3', max=3.0, min=-3.0, step=0.01), FloatSlider(valu…"
      ]
     },
     "metadata": {},
     "output_type": "display_data"
    }
   ],
   "source": [
    "@interact(\n",
    "    a3=(-3,3,0.01),\n",
    "    a2=(-3,3,0.01),\n",
    "    a1=(-3,3,0.01),\n",
    "    a0=(-3,3,0.01),\n",
    ")\n",
    "def manual_params_fitting(a3=0.1, a2=-.1, a1=.1, a0=.1):\n",
    "    f = make_pol3(a3, a2, a1, a0)\n",
    "    loss = mae_loss(train_y, f(train_x))\n",
    "    plot_func(f, f\"Loss: {loss:.3f}\")\n",
    "    plt.scatter(train_x, train_y, alpha=0.7)"
   ]
  },
  {
   "cell_type": "markdown",
   "id": "83ae4bca-5d02-43c8-ae4e-54d6aec2fc16",
   "metadata": {},
   "source": [
    "# Gradient descent\n",
    "* save the series of params + loss so we can plot trace"
   ]
  },
  {
   "cell_type": "markdown",
   "id": "0bd71be7-4708-4ffb-babe-37c1d96f67f1",
   "metadata": {},
   "source": [
    "## One iteration of grad descent"
   ]
  },
  {
   "cell_type": "code",
   "execution_count": 208,
   "id": "1ec1efa8-ec73-4db1-94aa-63cf1c038ee4",
   "metadata": {},
   "outputs": [
    {
     "data": {
      "text/plain": [
       "tensor([ 0.4967, -0.1383,  0.6477,  1.5230], dtype=torch.float64,\n",
       "       requires_grad=True)"
      ]
     },
     "execution_count": 208,
     "metadata": {},
     "output_type": "execute_result"
    }
   ],
   "source": [
    "# set parmas randomly\n",
    "# !tell pytorch that we want to calc grads via requires_grad parameter\n",
    "np.random.seed(42)\n",
    "m_params = torch.tensor(np.random.normal(size=4), requires_grad=True)\n",
    "m_params"
   ]
  },
  {
   "cell_type": "code",
   "execution_count": 209,
   "id": "39994ae5-3e21-45e5-a521-a3a8bc7c3a68",
   "metadata": {},
   "outputs": [
    {
     "data": {
      "text/plain": [
       "None"
      ]
     },
     "metadata": {},
     "output_type": "display_data"
    }
   ],
   "source": [
    "display(m_params.grad)"
   ]
  },
  {
   "cell_type": "code",
   "execution_count": 211,
   "id": "46488483-59dd-42bf-bbab-1675b17ad51d",
   "metadata": {},
   "outputs": [
    {
     "name": "stdout",
     "output_type": "stream",
     "text": [
      "current loss:  tensor(4.9569, dtype=torch.float64, grad_fn=<MeanBackward0>)\n",
      "gradient  tensor([ 7.4560e+00, -1.1921e-07,  1.5517e+00,  7.4506e-09],\n",
      "       dtype=torch.float64)\n"
     ]
    }
   ],
   "source": [
    "model = make_pol3(*m_params)\n",
    "y_pred = model(train_x)\n",
    "loss = mae_loss(train_y, y_pred)\n",
    "# calc grad\n",
    "m_params.grad = None # reset before grad calculation, do we need to do this?\n",
    "loss.backward()\n",
    "# params should have gradient\n",
    "print(\"current loss: \", loss)\n",
    "print(\"gradient \", m_params.grad)"
   ]
  },
  {
   "cell_type": "code",
   "execution_count": 212,
   "id": "b2e60e7b-908a-4892-aa3b-7f88d8c5aa7d",
   "metadata": {},
   "outputs": [
    {
     "name": "stdout",
     "output_type": "stream",
     "text": [
      "new params:  tensor([ 0.4719, -0.1314,  0.6153,  1.4469], dtype=torch.float64,\n",
      "       requires_grad=True)\n",
      "new loss: tensor(4.7267, dtype=torch.float64)\n",
      "what's in a grad: tensor([ 7.4560e+00, -1.1921e-07,  1.5517e+00,  7.4506e-09],\n",
      "       dtype=torch.float64)\n"
     ]
    }
   ],
   "source": [
    "# update params\n",
    "# we need to turn off gradient update rules for this\n",
    "learning_rate = 0.05\n",
    "with torch.no_grad():\n",
    "    m_params -= m_params * learning_rate\n",
    "    new_loss = mae_loss(train_y, make_pol3(*m_params)(train_x))\n",
    "    print(\"new params: \", m_params)\n",
    "    print(\"new loss:\", new_loss)\n",
    "    print(\"what's in a grad:\", m_params.grad)"
   ]
  },
  {
   "cell_type": "markdown",
   "id": "cd2e774b-1e54-4cc1-8ae2-bd713a31012e",
   "metadata": {},
   "source": [
    "## Fitting with grad descent"
   ]
  },
  {
   "cell_type": "code",
   "execution_count": 304,
   "id": "2ee079c5-6919-4526-a27b-266575ec873e",
   "metadata": {},
   "outputs": [],
   "source": [
    "def calc_model_loss(model_params, train_x, train_y):\n",
    "    model = make_pol3(*model_params)\n",
    "    y_pred = model(train_x)\n",
    "    return mae_loss(train_y, y_pred)"
   ]
  },
  {
   "cell_type": "code",
   "execution_count": 344,
   "id": "549159eb-b0e8-42a8-8243-afe774b26ab1",
   "metadata": {},
   "outputs": [
    {
     "data": {
      "text/plain": [
       "tensor([ 0.4967, -0.1383,  0.6477,  1.5230], dtype=torch.float64,\n",
       "       requires_grad=True)"
      ]
     },
     "execution_count": 344,
     "metadata": {},
     "output_type": "execute_result"
    }
   ],
   "source": [
    "# init\n",
    "np.random.seed(42)\n",
    "m_params = torch.tensor(np.random.normal(size=4), requires_grad=True)\n",
    "m_params"
   ]
  },
  {
   "cell_type": "code",
   "execution_count": 345,
   "id": "2e98bd49-8b0f-437c-ba48-70aa3ecaebb9",
   "metadata": {},
   "outputs": [
    {
     "name": "stdout",
     "output_type": "stream",
     "text": [
      "# 0: loss: 4.9568551129\n",
      "# 10: loss: 1.2961567371\n",
      "# 20: loss: 1.2543287584\n",
      "# 30: loss: 1.1905837326\n",
      "# 40: loss: 1.0556680469\n",
      "# 50: loss: 0.9996641168\n",
      "# 60: loss: 0.9728197723\n",
      "# 70: loss: 0.9499545703\n",
      "# 80: loss: 0.8994275843\n",
      "# 90: loss: 0.8543902511\n",
      "# 100: loss: 0.8920531546\n",
      "# 110: loss: 0.8102612729\n",
      "# 120: loss: 0.8087534125\n",
      "# 130: loss: 0.7698521232\n",
      "# 140: loss: 0.7700733877\n",
      "# 150: loss: 0.7233771736\n",
      "# 160: loss: 0.6934949055\n",
      "# 170: loss: 0.6358665305\n",
      "# 180: loss: 0.6406094457\n",
      "# 190: loss: 0.6311633092\n",
      "# 200: loss: 0.5799818266\n",
      "# 210: loss: 0.5473265299\n",
      "# 220: loss: 0.5626621533\n",
      "# 230: loss: 0.5130126493\n",
      "# 240: loss: 0.5453259835\n",
      "# 250: loss: 0.5056166758\n",
      "# 260: loss: 0.5005104432\n",
      "# 270: loss: 0.4882785947\n",
      "# 280: loss: 0.4896276226\n",
      "# 290: loss: 0.4807784011\n"
     ]
    }
   ],
   "source": [
    "learning_rate = 0.03\n",
    "n_epocs = 300\n",
    "do_lr_decay = True\n",
    "learning_trace = []\n",
    "for i in range(n_epocs):\n",
    "    current_loss = calc_model_loss(m_params, train_x, train_y)\n",
    "    current_loss.backward()\n",
    "    with torch.no_grad():\n",
    "        m_params -= m_params.grad * learning_rate\n",
    "    m_params.grad = None\n",
    "    if i%10==0:\n",
    "        print(f\"# {i}: loss: {current_loss:.10f}\")\n",
    "    if do_lr_decay and i%20 == 1:\n",
    "        learning_rate *= 0.9 \n",
    "    loss_val = current_loss.detach().numpy().tolist()\n",
    "    learning_trace.append([i] + [loss_val] + m_params.detach().numpy().tolist())\n",
    "trace_df = pd.DataFrame.from_records(learning_trace, columns=['iter','loss','a3','a2','a1','a0']).set_index('iter')"
   ]
  },
  {
   "cell_type": "code",
   "execution_count": 346,
   "id": "c6b4d143-4569-495a-9dc9-229e630876a1",
   "metadata": {},
   "outputs": [
    {
     "data": {
      "text/plain": [
       "<AxesSubplot:xlabel='iter'>"
      ]
     },
     "execution_count": 346,
     "metadata": {},
     "output_type": "execute_result"
    },
    {
     "data": {
      "image/png": "[encoded data removed]",
      "text/plain": [
       "<Figure size 432x288 with 1 Axes>"
      ]
     },
     "metadata": {
      "needs_background": "light"
     },
     "output_type": "display_data"
    }
   ],
   "source": [
    "trace_df.plot(y='loss')"
   ]
  },
  {
   "cell_type": "code",
   "execution_count": 347,
   "id": "3a74ce86-225b-475b-a88e-4b0f16a141b3",
   "metadata": {},
   "outputs": [
    {
     "data": {
      "text/plain": [
       "Text(0.5, 0.98, 'Learned parameter values per iteration\\n (actual value is horisontal dashed line)')"
      ]
     },
     "execution_count": 347,
     "metadata": {},
     "output_type": "execute_result"
    },
    {
     "data": {
      "image/png": "[encoded data removed]",
      "text/plain": [
       "<Figure size 1440x288 with 4 Axes>"
      ]
     },
     "metadata": {
      "needs_background": "light"
     },
     "output_type": "display_data"
    }
   ],
   "source": [
    "axs = trace_df.drop('loss',axis=1).plot(subplots=True, layout=(1, 4), figsize=(20, 4))\n",
    "for i, ax in enumerate(axs[0]):\n",
    "    ax.axhline(hiddent_actual_params[i], color=f\"C{i}\", linestyle='--')\n",
    "\n",
    "plt.gcf().suptitle(\"Learned parameter values per iteration\\n (actual value is horisontal dashed line)\")"
   ]
  },
  {
   "cell_type": "markdown",
   "id": "e79317fd-1444-4331-ac53-18add8fe8f0f",
   "metadata": {},
   "source": [
    "# Fitting using gradient descent with relu functions"
   ]
  },
  {
   "cell_type": "code",
   "execution_count": null,
   "id": "842e5f1c-08bd-4573-a072-8405f118ed77",
   "metadata": {},
   "outputs": [],
   "source": []
  }
 ],
 "metadata": {
  "kernelspec": {
   "display_name": "Python 3 (ipykernel)",
   "language": "python",
   "name": "python3"
  },
  "language_info": {
   "codemirror_mode": {
    "name": "ipython",
    "version": 3
   },
   "file_extension": ".py",
   "mimetype": "text/x-python",
   "name": "python",
   "nbconvert_exporter": "python",
   "pygments_lexer": "ipython3",
   "version": "3.9.13"
  }
 },
 "nbformat": 4,
 "nbformat_minor": 5
}
