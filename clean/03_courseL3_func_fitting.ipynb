{
 "cells": [
  {
   "cell_type": "code",
   "execution_count": 1,
   "id": "ada1a950-0186-4b3b-8625-a91e9ff35370",
   "metadata": {},
   "outputs": [],
   "source": [
    "from ipywidgets import interact\n",
    "import matplotlib.pyplot as plt\n",
    "%matplotlib inline"
   ]
  },
  {
   "cell_type": "code",
   "execution_count": 2,
   "id": "ee553ab4-a904-4410-930f-b660ab67a4a3",
   "metadata": {},
   "outputs": [],
   "source": [
    "import numpy as np\n",
    "import pandas as pd\n",
    "import torch"
   ]
  },
  {
   "cell_type": "code",
   "execution_count": 3,
   "id": "d4cd731e-608d-4431-92ab-6af7aaff0c4a",
   "metadata": {},
   "outputs": [],
   "source": [
    "from functools import partial"
   ]
  },
  {
   "cell_type": "markdown",
   "id": "07293b45-5cfa-48ae-9249-d7aea14ba4bc",
   "metadata": {},
   "source": [
    "# Plotting function"
   ]
  },
  {
   "cell_type": "code",
   "execution_count": 4,
   "id": "3b5c3a8b-24dd-43ae-aaea-0fe494619197",
   "metadata": {},
   "outputs": [],
   "source": [
    "def plot_func(f, title=None, min_x=-3, max_x=3, ylim=None, color='red'):\n",
    "    x = torch.linspace(min_x, max_x, 100)\n",
    "    plt.plot(x, f(x), color=color)\n",
    "    if ylim: plt.ylim(*ylim)\n",
    "    if title: plt.title(title)"
   ]
  },
  {
   "cell_type": "code",
   "execution_count": 5,
   "id": "ce40e903-c632-4cb6-b4e0-c918e7d3ab2b",
   "metadata": {},
   "outputs": [],
   "source": [
    "def f(x):\n",
    "    return 0.5*x**3 - 3*x**2 + 2*x + 1"
   ]
  },
  {
   "cell_type": "code",
   "execution_count": 6,
   "id": "9fdf5b27-d66d-46e0-8993-4138c04a4f10",
   "metadata": {},
   "outputs": [
    {
     "data": {
      "image/png": "[encoded data removed]",
      "text/plain": [
       "<Figure size 432x288 with 1 Axes>"
      ]
     },
     "metadata": {
      "needs_background": "light"
     },
     "output_type": "display_data"
    }
   ],
   "source": [
    "plot_func(f, \"$0.5x^3 - 3x^2 + 2x+ 1$\", -1, 1)"
   ]
  },
  {
   "cell_type": "markdown",
   "id": "0b7af179-c279-4bd5-85de-b0520041b07d",
   "metadata": {},
   "source": [
    "# Model architecutre"
   ]
  },
  {
   "cell_type": "code",
   "execution_count": 7,
   "id": "41f9efcc-043d-4cb2-9114-5756c8f4fb03",
   "metadata": {},
   "outputs": [],
   "source": [
    "# true function that we want to reconstruct, takes params and input:x\n",
    "def polynom3(a3, a2, a1, a0, x):\n",
    "    return a3*x**3 + a2*x**2 + a1*x + a0"
   ]
  },
  {
   "cell_type": "code",
   "execution_count": 8,
   "id": "6c822496-2dd5-4409-801a-3a1e48a24e49",
   "metadata": {},
   "outputs": [],
   "source": [
    "# helper function to generate \"model instance\" with fixed weights so we can apply it to the input:x\n",
    "# return function that takes single input:x\n",
    "def make_pol3(a3, a2, a1, a0):\n",
    "    return partial(polynom3, a3, a2, a1, a0) "
   ]
  },
  {
   "cell_type": "markdown",
   "id": "0d4b7d3c-f9f5-4dc7-9e36-b4ca65cfa8be",
   "metadata": {},
   "source": [
    "# Select shape of function that I like "
   ]
  },
  {
   "cell_type": "code",
   "execution_count": 9,
   "id": "3e20e9ac-af3f-4e30-822d-d253d5ebd5c5",
   "metadata": {},
   "outputs": [
    {
     "name": "stdout",
     "output_type": "stream",
     "text": [
      "$x^3 + 2x^2 - x + 10$\n",
      "$-3x^3 + 5x - 1$\n",
      "$x^3 + 2x^2 - x + 10$\n",
      "$-2.43x^2 + 5x - 1$\n"
     ]
    }
   ],
   "source": [
    "def format_polynom_part(coefficient, power, is_first_nonzero_term):\n",
    "    if coefficient == 0:\n",
    "        return \"\"\n",
    "    sign = \"-\" if coefficient < 0 else \"+\" if not is_first_nonzero_term else \"\"\n",
    "    coeff_str = \"\" if abs(coefficient) == 1 and power != 0 else f\"{abs(coefficient):.2f}\".rstrip('0').rstrip('.')\n",
    "    space = \" \" if not is_first_nonzero_term or sign == \"+\" else \"\"\n",
    "    term = f\"{sign}{space}{coeff_str}{'x' if power else ''}{'^' + str(power) if power > 1 else ''}\".strip()\n",
    "    return term\n",
    "\n",
    "def format_cubic_polynomial(a3, a2, a1, a0):\n",
    "    coefficients = [a3, a2, a1, a0]\n",
    "    terms = []\n",
    "    first_nonzero_found = False\n",
    "\n",
    "    for i, coeff in enumerate(coefficients):\n",
    "        power = len(coefficients) - i - 1\n",
    "        if coeff != 0 and not first_nonzero_found:\n",
    "            first_nonzero_found = True\n",
    "            terms.append(format_polynom_part(coeff, power, True))\n",
    "        else:\n",
    "            terms.append(format_polynom_part(coeff, power, False))\n",
    "\n",
    "    res = \" \".join(filter(None, terms))\n",
    "    return f\"${res}$\"\n",
    "\n",
    "# Example usage\n",
    "print(format_cubic_polynomial(1, 2, -1, 10))  # Output: \"x^3 + 2x^2 - x + 10\"\n",
    "print(format_cubic_polynomial(-3, 0, 5, -1))  # Output: \"-3x^3 + 5x - 1\"\n",
    "print(format_cubic_polynomial(1, 2, -1, 10))  # Output: x^3 + 2.00x^2 - x + 10.00\n",
    "print(format_cubic_polynomial(0, -2.4345, 5, -1))  # Output: -2.43x^2 + 5.00x - 1.00"
   ]
  },
  {
   "cell_type": "code",
   "execution_count": 10,
   "id": "dede8a4a-44ce-49f4-86ab-448957af4c3d",
   "metadata": {},
   "outputs": [
    {
     "data": {
      "application/vnd.jupyter.widget-view+json": {
       "model_id": "f3b20ce83ef44e23be17b08cfe4e23c1",
       "version_major": 2,
       "version_minor": 0
      },
      "text/plain": [
       "interactive(children=(FloatSlider(value=0.25, description='a3', max=3.0, min=-3.0, step=0.05), FloatSlider(val…"
      ]
     },
     "metadata": {},
     "output_type": "display_data"
    }
   ],
   "source": [
    "@interact(\n",
    "    a3=(-3,3,0.05),\n",
    "    a2=(-3,3,0.05),\n",
    "    a1=(-3,3,0.05),\n",
    "    a0=(-3,3,0.05),\n",
    ")\n",
    "def choose_params(a3=.25, a2=-.15, a1=-1.45, a0=1.5):\n",
    "    f = make_pol3(a3, a2, a1, a0)\n",
    "    plot_func(f, format_cubic_polynomial(a3, a2, a1, a0))"
   ]
  },
  {
   "cell_type": "code",
   "execution_count": 223,
   "id": "0c8c9ea5-bc31-4ac8-b1e9-11dc1a526846",
   "metadata": {},
   "outputs": [],
   "source": [
    "# model params that we want to reconstruct\n",
    "hiddent_actual_params = [0.25, -0.15, -1.45, 1.5]\n",
    "#hiddent_actual_params = [0.0, 3, 2, 1]"
   ]
  },
  {
   "cell_type": "code",
   "execution_count": 224,
   "id": "ebb1c9b6-9b02-407b-b176-be130368637a",
   "metadata": {},
   "outputs": [],
   "source": [
    "hidden_function = make_pol3(*hiddent_actual_params)\n",
    "hidden_func_title = format_cubic_polynomial(*hiddent_actual_params)"
   ]
  },
  {
   "cell_type": "code",
   "execution_count": 225,
   "id": "593f4311-3d5a-496c-99d9-a8c95b822f21",
   "metadata": {},
   "outputs": [
    {
     "data": {
      "image/png": "[encoded data removed]",
      "text/plain": [
       "<Figure size 432x288 with 1 Axes>"
      ]
     },
     "metadata": {
      "needs_background": "light"
     },
     "output_type": "display_data"
    }
   ],
   "source": [
    "plot_func(hidden_function, f\"Hidden function: {hidden_func_title}\")"
   ]
  },
  {
   "cell_type": "markdown",
   "id": "110ba50c-9966-41fd-bc2b-664b0281cc87",
   "metadata": {},
   "source": [
    "# Generate \"training\" data\n",
    "* use known function to generate data with addiitonal noise"
   ]
  },
  {
   "cell_type": "code",
   "execution_count": 226,
   "id": "e3a2154d-89d0-4eee-a21b-8a624f0c1932",
   "metadata": {},
   "outputs": [],
   "source": [
    "def noise(scale, x):\n",
    "    return np.random.normal(scale=scale, size=len(x))\n",
    "def add_noise(x, mul, add):\n",
    "    return x * (1 + noise(mul, x)) + noise(add, x)"
   ]
  },
  {
   "cell_type": "code",
   "execution_count": 227,
   "id": "48dff47b-4dcf-4108-9c57-481ada5ed26b",
   "metadata": {},
   "outputs": [
    {
     "data": {
      "text/plain": [
       "tensor([-0.1855,  0.8870,  1.9857,  2.8724,  3.8132,  5.8968,  4.8791,  6.4129,\n",
       "         8.6596,  8.8557, 12.1018], dtype=torch.float64)"
      ]
     },
     "execution_count": 227,
     "metadata": {},
     "output_type": "execute_result"
    }
   ],
   "source": [
    "add_noise(torch.linspace(0,10,11), 0.1, 0.3)"
   ]
  },
  {
   "cell_type": "code",
   "execution_count": 228,
   "id": "e51f5972-1f4d-4985-bcea-0dc976e68c5a",
   "metadata": {},
   "outputs": [
    {
     "data": {
      "text/plain": [
       "<matplotlib.collections.PathCollection at 0x7f952c47b3d0>"
      ]
     },
     "execution_count": 228,
     "metadata": {},
     "output_type": "execute_result"
    },
    {
     "data": {
      "image/png": "[encoded data removed]",
      "text/plain": [
       "<Figure size 432x288 with 1 Axes>"
      ]
     },
     "metadata": {
      "needs_background": "light"
     },
     "output_type": "display_data"
    }
   ],
   "source": [
    "n_examples = 30\n",
    "train_x_min = -3\n",
    "train_x_max = 3\n",
    "\n",
    "np.random.seed(1)\n",
    "\n",
    "train_x = torch.linspace(train_x_min, train_x_max, n_examples)\n",
    "train_y = add_noise(hidden_function(train_x), mul=0.2, add=.6)\n",
    "\n",
    "\n",
    "plot_func(hidden_function, f\"Hidden function: {hidden_func_title}\")\n",
    "plt.scatter(train_x, train_y, alpha=0.7)"
   ]
  },
  {
   "cell_type": "markdown",
   "id": "b6a6be93-666b-4f7f-b6b1-9afac511cc29",
   "metadata": {},
   "source": [
    "# Manual interactive fitting\n",
    "* plot train data points\n",
    "* use interactive plot of the function with manually selected parameters\n",
    "* output loss"
   ]
  },
  {
   "cell_type": "code",
   "execution_count": 229,
   "id": "edd6c96b-8321-4e03-b0f0-7e7fbbb180c5",
   "metadata": {},
   "outputs": [],
   "source": [
    "def mae_loss(y_true, y_pred):\n",
    "    return (y_true-y_pred).abs().mean()"
   ]
  },
  {
   "cell_type": "code",
   "execution_count": 230,
   "id": "563a1753-e35c-4dbe-8aa3-9eacfc9ebfea",
   "metadata": {},
   "outputs": [
    {
     "name": "stdout",
     "output_type": "stream",
     "text": [
      "Loss of actual function on train data: tensor(0.5020, dtype=torch.float64)\n"
     ]
    }
   ],
   "source": [
    "print(\"Loss of actual function on train data:\", mae_loss(train_y, hidden_function(train_x)))"
   ]
  },
  {
   "cell_type": "code",
   "execution_count": 231,
   "id": "3b6f24ac-f9c6-440b-8906-c5520fe31d38",
   "metadata": {},
   "outputs": [
    {
     "data": {
      "application/vnd.jupyter.widget-view+json": {
       "model_id": "13bbfce252c743b096c5f3b5f227d4fa",
       "version_major": 2,
       "version_minor": 0
      },
      "text/plain": [
       "interactive(children=(FloatSlider(value=0.1, description='a3', max=3.0, min=-3.0, step=0.01), FloatSlider(valu…"
      ]
     },
     "metadata": {},
     "output_type": "display_data"
    }
   ],
   "source": [
    "@interact(\n",
    "    a3=(-3,3,0.01),\n",
    "    a2=(-3,3,0.01),\n",
    "    a1=(-3,3,0.01),\n",
    "    a0=(-3,3,0.01),\n",
    ")\n",
    "def manual_params_fitting(a3=0.1, a2=-.1, a1=.1, a0=.1):\n",
    "    f = make_pol3(a3, a2, a1, a0)\n",
    "    loss = mae_loss(train_y, f(train_x))\n",
    "    plot_func(f, f\"Loss: {loss:.3f}\")\n",
    "    plt.scatter(train_x, train_y, alpha=0.7)"
   ]
  },
  {
   "cell_type": "markdown",
   "id": "83ae4bca-5d02-43c8-ae4e-54d6aec2fc16",
   "metadata": {},
   "source": [
    "# Gradient descent\n",
    "* save the series of params + loss so we can plot trace"
   ]
  },
  {
   "cell_type": "markdown",
   "id": "0bd71be7-4708-4ffb-babe-37c1d96f67f1",
   "metadata": {},
   "source": [
    "## One iteration of grad descent"
   ]
  },
  {
   "cell_type": "code",
   "execution_count": 232,
   "id": "1ec1efa8-ec73-4db1-94aa-63cf1c038ee4",
   "metadata": {},
   "outputs": [
    {
     "data": {
      "text/plain": [
       "tensor([ 0.4967, -0.1383,  0.6477,  1.5230], dtype=torch.float64,\n",
       "       requires_grad=True)"
      ]
     },
     "execution_count": 232,
     "metadata": {},
     "output_type": "execute_result"
    }
   ],
   "source": [
    "# set parmas randomly\n",
    "# !tell pytorch that we want to calc grads via requires_grad parameter\n",
    "np.random.seed(42)\n",
    "m_params = torch.tensor(np.random.normal(size=4), requires_grad=True)\n",
    "m_params"
   ]
  },
  {
   "cell_type": "code",
   "execution_count": 233,
   "id": "39994ae5-3e21-45e5-a521-a3a8bc7c3a68",
   "metadata": {},
   "outputs": [
    {
     "data": {
      "text/plain": [
       "None"
      ]
     },
     "metadata": {},
     "output_type": "display_data"
    }
   ],
   "source": [
    "display(m_params.grad)"
   ]
  },
  {
   "cell_type": "code",
   "execution_count": 234,
   "id": "46488483-59dd-42bf-bbab-1675b17ad51d",
   "metadata": {},
   "outputs": [
    {
     "name": "stdout",
     "output_type": "stream",
     "text": [
      "current loss:  tensor(4.9569, dtype=torch.float64, grad_fn=<MeanBackward0>)\n",
      "gradient  tensor([ 7.4560e+00, -1.1921e-07,  1.5517e+00,  7.4506e-09],\n",
      "       dtype=torch.float64)\n"
     ]
    }
   ],
   "source": [
    "model = make_pol3(*m_params)\n",
    "y_pred = model(train_x)\n",
    "loss = mae_loss(train_y, y_pred)\n",
    "# calc grad\n",
    "m_params.grad = None # reset before grad calculation, do we need to do this?\n",
    "loss.backward()\n",
    "# params should have gradient\n",
    "print(\"current loss: \", loss)\n",
    "print(\"gradient \", m_params.grad)"
   ]
  },
  {
   "cell_type": "code",
   "execution_count": 235,
   "id": "b2e60e7b-908a-4892-aa3b-7f88d8c5aa7d",
   "metadata": {},
   "outputs": [
    {
     "name": "stdout",
     "output_type": "stream",
     "text": [
      "new params:  tensor([ 0.4719, -0.1314,  0.6153,  1.4469], dtype=torch.float64,\n",
      "       requires_grad=True)\n",
      "new loss: tensor(4.7267, dtype=torch.float64)\n",
      "what's in a grad: tensor([ 7.4560e+00, -1.1921e-07,  1.5517e+00,  7.4506e-09],\n",
      "       dtype=torch.float64)\n"
     ]
    }
   ],
   "source": [
    "# update params\n",
    "# we need to turn off gradient update rules for this\n",
    "learning_rate = 0.05\n",
    "with torch.no_grad():\n",
    "    m_params -= m_params * learning_rate\n",
    "    new_loss = mae_loss(train_y, make_pol3(*m_params)(train_x))\n",
    "    print(\"new params: \", m_params)\n",
    "    print(\"new loss:\", new_loss)\n",
    "    print(\"what's in a grad:\", m_params.grad)"
   ]
  },
  {
   "cell_type": "markdown",
   "id": "cd2e774b-1e54-4cc1-8ae2-bd713a31012e",
   "metadata": {},
   "source": [
    "## Fitting with grad descent"
   ]
  },
  {
   "cell_type": "code",
   "execution_count": 236,
   "id": "2ee079c5-6919-4526-a27b-266575ec873e",
   "metadata": {},
   "outputs": [],
   "source": [
    "def calc_model_loss(model_params, train_x, train_y):\n",
    "    model = make_pol3(*model_params)\n",
    "    y_pred = model(train_x)\n",
    "    return mae_loss(train_y, y_pred)"
   ]
  },
  {
   "cell_type": "code",
   "execution_count": 237,
   "id": "549159eb-b0e8-42a8-8243-afe774b26ab1",
   "metadata": {},
   "outputs": [
    {
     "data": {
      "text/plain": [
       "tensor([ 0.4967, -0.1383,  0.6477,  1.5230], dtype=torch.float64,\n",
       "       requires_grad=True)"
      ]
     },
     "execution_count": 237,
     "metadata": {},
     "output_type": "execute_result"
    }
   ],
   "source": [
    "# init\n",
    "np.random.seed(42)\n",
    "m_params = torch.tensor(np.random.normal(size=4), requires_grad=True)\n",
    "m_params"
   ]
  },
  {
   "cell_type": "code",
   "execution_count": 238,
   "id": "2e98bd49-8b0f-437c-ba48-70aa3ecaebb9",
   "metadata": {},
   "outputs": [
    {
     "name": "stdout",
     "output_type": "stream",
     "text": [
      "# 0: loss: 4.9568551129\n",
      "# 10: loss: 1.2961567371\n",
      "# 20: loss: 1.2543287584\n",
      "# 30: loss: 1.1905837326\n",
      "# 40: loss: 1.0556680469\n",
      "# 50: loss: 0.9996641168\n",
      "# 60: loss: 0.9728197723\n",
      "# 70: loss: 0.9499545703\n",
      "# 80: loss: 0.8994275843\n",
      "# 90: loss: 0.8543902511\n",
      "# 100: loss: 0.8920531546\n",
      "# 110: loss: 0.8102612729\n",
      "# 120: loss: 0.8087534125\n",
      "# 130: loss: 0.7698521232\n",
      "# 140: loss: 0.7700733877\n",
      "# 150: loss: 0.7233771736\n",
      "# 160: loss: 0.6934949055\n",
      "# 170: loss: 0.6358665305\n",
      "# 180: loss: 0.6406094457\n",
      "# 190: loss: 0.6311633092\n",
      "# 200: loss: 0.5799818266\n",
      "# 210: loss: 0.5473265299\n",
      "# 220: loss: 0.5626621533\n",
      "# 230: loss: 0.5130126493\n",
      "# 240: loss: 0.5453259835\n",
      "# 250: loss: 0.5056166758\n",
      "# 260: loss: 0.5005104432\n",
      "# 270: loss: 0.4882785947\n",
      "# 280: loss: 0.4896276226\n",
      "# 290: loss: 0.4807784011\n"
     ]
    }
   ],
   "source": [
    "learning_rate = 0.03\n",
    "n_epocs = 300\n",
    "do_lr_decay = True\n",
    "learning_trace = []\n",
    "for i in range(n_epocs):\n",
    "    current_loss = calc_model_loss(m_params, train_x, train_y)\n",
    "    current_loss.backward()\n",
    "    with torch.no_grad():\n",
    "        m_params -= m_params.grad * learning_rate\n",
    "    m_params.grad = None\n",
    "    if i%10==0:\n",
    "        print(f\"# {i}: loss: {current_loss:.10f}\")\n",
    "    if do_lr_decay and i%20 == 1:\n",
    "        learning_rate *= 0.9 \n",
    "    loss_val = current_loss.detach().numpy().tolist()\n",
    "    learning_trace.append([i] + [loss_val] + m_params.detach().numpy().tolist())\n",
    "trace_df = pd.DataFrame.from_records(learning_trace, columns=['iter','loss','a3','a2','a1','a0']).set_index('iter')"
   ]
  },
  {
   "cell_type": "code",
   "execution_count": 239,
   "id": "c6b4d143-4569-495a-9dc9-229e630876a1",
   "metadata": {},
   "outputs": [
    {
     "data": {
      "text/plain": [
       "<AxesSubplot:xlabel='iter'>"
      ]
     },
     "execution_count": 239,
     "metadata": {},
     "output_type": "execute_result"
    },
    {
     "data": {
      "image/png": "[encoded data removed]",
      "text/plain": [
       "<Figure size 432x288 with 1 Axes>"
      ]
     },
     "metadata": {
      "needs_background": "light"
     },
     "output_type": "display_data"
    }
   ],
   "source": [
    "trace_df.plot(y='loss')"
   ]
  },
  {
   "cell_type": "code",
   "execution_count": 240,
   "id": "3a74ce86-225b-475b-a88e-4b0f16a141b3",
   "metadata": {},
   "outputs": [
    {
     "data": {
      "text/plain": [
       "Text(0.5, 0.98, 'Learned parameter values per iteration\\n (actual value is horisontal dashed line)')"
      ]
     },
     "execution_count": 240,
     "metadata": {},
     "output_type": "execute_result"
    },
    {
     "data": {
      "image/png": "[encoded data removed]",
      "text/plain": [
       "<Figure size 1440x288 with 4 Axes>"
      ]
     },
     "metadata": {
      "needs_background": "light"
     },
     "output_type": "display_data"
    }
   ],
   "source": [
    "axs = trace_df.drop('loss',axis=1).plot(subplots=True, layout=(1, 4), figsize=(20, 4))\n",
    "for i, ax in enumerate(axs[0]):\n",
    "    ax.axhline(hiddent_actual_params[i], color=f\"C{i}\", linestyle='--')\n",
    "\n",
    "plt.gcf().suptitle(\"Learned parameter values per iteration\\n (actual value is horisontal dashed line)\")"
   ]
  },
  {
   "cell_type": "code",
   "execution_count": 241,
   "id": "b048de99-d634-477f-85d7-1948e444ab41",
   "metadata": {},
   "outputs": [
    {
     "data": {
      "text/plain": [
       "<matplotlib.legend.Legend at 0x7f952bb239d0>"
      ]
     },
     "execution_count": 241,
     "metadata": {},
     "output_type": "execute_result"
    },
    {
     "data": {
      "image/png": "[encoded data removed]",
      "text/plain": [
       "<Figure size 432x288 with 1 Axes>"
      ]
     },
     "metadata": {
      "needs_background": "light"
     },
     "output_type": "display_data"
    }
   ],
   "source": [
    "plot_func(hidden_function)\n",
    "learned_params = m_params.detach().numpy() \n",
    "plot_func(make_pol3(*learned_params), \n",
    "          title=f\"Hidden function: {hidden_func_title}\\nLearned function: {format_cubic_polynomial(*learned_params)}\"\n",
    "          , color='blue')\n",
    "\n",
    "plt.legend(['actual','learned','train data'])"
   ]
  },
  {
   "cell_type": "code",
   "execution_count": 242,
   "id": "7f4b9bce-be75-458b-9415-14532ee6ae0c",
   "metadata": {},
   "outputs": [],
   "source": [
    "if False:\n",
    "    fig, ax = plt.subplots(1,1, figsize=(10,7))\n",
    "    plot_func(hidden_function,min_x=-10, max_x=10)\n",
    "    learned_params = m_params.detach().numpy() \n",
    "    plot_func(make_pol3(*learned_params), \n",
    "              title=f\"Hidden function: {hidden_func_title}\\nLearned function: {format_cubic_polynomial(*learned_params)}\", color='blue',\n",
    "              min_x=-8, max_x=10)\n",
    "    plt.scatter(train_x, train_y, alpha=0.7)\n",
    "\n",
    "    plt.legend(['actual','learned','train data'])"
   ]
  },
  {
   "cell_type": "markdown",
   "id": "e79317fd-1444-4331-ac53-18add8fe8f0f",
   "metadata": {},
   "source": [
    "# Fitting using gradient descent with relu functions"
   ]
  },
  {
   "cell_type": "code",
   "execution_count": 243,
   "id": "842e5f1c-08bd-4573-a072-8405f118ed77",
   "metadata": {},
   "outputs": [],
   "source": [
    "def relu(m, b, x):\n",
    "    return torch.clip(m*x+b, 0)"
   ]
  },
  {
   "cell_type": "code",
   "execution_count": 244,
   "id": "5775f014-38c2-4d49-9b4c-6ac017abcb78",
   "metadata": {},
   "outputs": [
    {
     "data": {
      "application/vnd.jupyter.widget-view+json": {
       "model_id": "b20cb0740ffe4518830c030a3e659ad9",
       "version_major": 2,
       "version_minor": 0
      },
      "text/plain": [
       "interactive(children=(FloatSlider(value=1.0, description='m', max=5.0, min=-5.0), FloatSlider(value=-1.0, desc…"
      ]
     },
     "metadata": {},
     "output_type": "display_data"
    }
   ],
   "source": [
    "@interact(\n",
    "    m=(-5., 5.),\n",
    "    b=(-5., 5.)\n",
    ")\n",
    "def choose_params_relu(m=1., b=-1.):\n",
    "    f = partial(relu, m, b)\n",
    "    plot_func(f, format_cubic_polynomial(0, 0, m, b), ylim=(-1, 7))"
   ]
  },
  {
   "cell_type": "code",
   "execution_count": 245,
   "id": "a7f4eea1-38ac-4639-979b-75bd7532d0d7",
   "metadata": {},
   "outputs": [],
   "source": [
    "def relu_n(params, x):\n",
    "    n = len(params) // 2\n",
    "    if len(params)%2 != 0:\n",
    "        raise ValueError(\"Number of parameters should be even\")\n",
    "    res = 0\n",
    "    for i in range(n):\n",
    "        m = params[2*i]\n",
    "        b = params[2*i+1]\n",
    "        res += relu(m,b,x)\n",
    "    return res"
   ]
  },
  {
   "cell_type": "code",
   "execution_count": 246,
   "id": "59376c06-6fcf-471a-a23d-6210b0557ca7",
   "metadata": {},
   "outputs": [],
   "source": [
    "# manual plot"
   ]
  },
  {
   "cell_type": "code",
   "execution_count": 247,
   "id": "ecc91541-4341-45bb-8dcd-d8f85ef515ea",
   "metadata": {},
   "outputs": [
    {
     "data": {
      "application/vnd.jupyter.widget-view+json": {
       "model_id": "dfe3305ffa6c4f1b807548deba047742",
       "version_major": 2,
       "version_minor": 0
      },
      "text/plain": [
       "interactive(children=(FloatSlider(value=1.0, description='m1', max=5.0, min=-5.0), FloatSlider(value=1.0, desc…"
      ]
     },
     "metadata": {},
     "output_type": "display_data"
    }
   ],
   "source": [
    "@interact(\n",
    "    m1=(-5., 5.),\n",
    "    b1=(-5., 5.),\n",
    "    m2=(-5., 5.),\n",
    "    b2=(-5., 5.),\n",
    "    m3=(-5., 5.),\n",
    "    b3=(-5., 5.)\n",
    ")\n",
    "def choose_params_relu(m1=1, b1=1, m2=-1, b2=-0.2, m3=3, b3=1):\n",
    "    params = [m1, b1, m2, b2, m3, b3]\n",
    "    f = partial(relu_n, params)\n",
    "    loss = mae_loss(train_y, f(train_x))\n",
    "    plot_func(f, f\"Loss: {loss:.3f}\")\n",
    "    plt.scatter(train_x, train_y, alpha=0.7)"
   ]
  },
  {
   "cell_type": "code",
   "execution_count": 248,
   "id": "548d2409-42c6-4dec-9c01-dd584265a132",
   "metadata": {},
   "outputs": [],
   "source": [
    "# fit with gradient"
   ]
  },
  {
   "cell_type": "code",
   "execution_count": 249,
   "id": "98844df4-1dd7-4e86-83b3-b0e5b78cfabb",
   "metadata": {},
   "outputs": [],
   "source": [
    "def calc_model_loss_relu(model_params, train_x, train_y):\n",
    "    y_pred = relu_n(model_params, train_x)\n",
    "    return mae_loss(train_y, y_pred)"
   ]
  },
  {
   "cell_type": "code",
   "execution_count": 250,
   "id": "4108dcf6-bcb2-48aa-a10b-1f88d88b3744",
   "metadata": {},
   "outputs": [
    {
     "data": {
      "text/plain": [
       "tensor([ 0.4967, -0.1383,  0.6477,  1.5230, -0.2342, -0.2341],\n",
       "       dtype=torch.float64, requires_grad=True)"
      ]
     },
     "execution_count": 250,
     "metadata": {},
     "output_type": "execute_result"
    }
   ],
   "source": [
    "# init\n",
    "N_RELU = 3\n",
    "np.random.seed(42)\n",
    "m_params = torch.tensor(np.random.normal(size=2*N_RELU), requires_grad=True)\n",
    "m_params"
   ]
  },
  {
   "cell_type": "code",
   "execution_count": 251,
   "id": "fba9f407-aed8-4222-b178-d943a923bfb1",
   "metadata": {},
   "outputs": [
    {
     "name": "stdout",
     "output_type": "stream",
     "text": [
      "# 0: loss: 1.9102405989\n",
      "# 100: loss: 1.1358404352\n",
      "# 200: loss: 1.1183913162\n",
      "# 300: loss: 1.1020975127\n",
      "# 400: loss: 1.0908644495\n",
      "# 500: loss: 1.0826845564\n",
      "# 600: loss: 1.0745046752\n",
      "# 700: loss: 1.0666906456\n",
      "# 800: loss: 1.0593973051\n",
      "# 900: loss: 1.0539633095\n"
     ]
    }
   ],
   "source": [
    "learning_rate = 0.08\n",
    "n_epocs = 1000\n",
    "do_lr_decay = False\n",
    "learning_trace = []\n",
    "for i in range(n_epocs):\n",
    "    current_loss = calc_model_loss_relu(m_params, train_x, train_y)\n",
    "    current_loss.backward()\n",
    "    with torch.no_grad():\n",
    "        m_params -= m_params.grad * learning_rate\n",
    "    m_params.grad = None\n",
    "    if i%100==0:\n",
    "        print(f\"# {i}: loss: {current_loss:.10f}\")\n",
    "    if do_lr_decay and i%100 == 1:\n",
    "        learning_rate *= 0.95 \n",
    "    loss_val = current_loss.detach().numpy().tolist()\n",
    "    learning_trace.append([i] + [loss_val] + m_params.detach().numpy().tolist())\n",
    "#trace_df = pd.DataFrame.from_records(learning_trace, columns=['iter','loss','a3','a2','a1','a0']).set_index('iter')"
   ]
  },
  {
   "cell_type": "code",
   "execution_count": 252,
   "id": "c0e2cb65-776b-40f4-844a-540570903d0e",
   "metadata": {},
   "outputs": [
    {
     "data": {
      "text/plain": [
       "<matplotlib.collections.PathCollection at 0x7f952bb7dca0>"
      ]
     },
     "execution_count": 252,
     "metadata": {},
     "output_type": "execute_result"
    },
    {
     "data": {
      "image/png": "[encoded data removed]",
      "text/plain": [
       "<Figure size 432x288 with 1 Axes>"
      ]
     },
     "metadata": {
      "needs_background": "light"
     },
     "output_type": "display_data"
    }
   ],
   "source": [
    "f = partial(relu_n, m_params.detach().numpy())\n",
    "loss = mae_loss(train_y, f(train_x))\n",
    "plot_func(f, f\"Loss: {loss:.3f}\")\n",
    "plt.scatter(train_x, train_y, alpha=0.7)"
   ]
  },
  {
   "cell_type": "markdown",
   "id": "4836f545-3a3c-470f-81c3-6106fd6d55fd",
   "metadata": {},
   "source": [
    "# weighted relu (2-layered network)"
   ]
  },
  {
   "cell_type": "code",
   "execution_count": 253,
   "id": "61c15843-83c1-4e8a-8fc7-2c92c08e1093",
   "metadata": {},
   "outputs": [],
   "source": [
    "def wrelu_n(relu_params, weights, x):\n",
    "    if len(relu_params) != 2*len(weights):\n",
    "        raise ValueError(\"Number of parameters doesn't match weights\")\n",
    "    res = 0\n",
    "    for i in range(len(weights)):\n",
    "        m = relu_params[2*i]\n",
    "        b = relu_params[2*i+1]\n",
    "        res += weights[i]*relu(m,b,x)\n",
    "    return res"
   ]
  },
  {
   "cell_type": "code",
   "execution_count": 254,
   "id": "7648af50-fdb2-44d9-bfc7-b0b17dbd23d0",
   "metadata": {},
   "outputs": [],
   "source": [
    "def calc_model_loss_wrelu(model_params, train_x, train_y):\n",
    "    y_pred = wrelu_n(model_params['relu'], model_params['weights'], train_x)\n",
    "    return mae_loss(train_y, y_pred)"
   ]
  },
  {
   "cell_type": "code",
   "execution_count": 278,
   "id": "c77c61c7-c8e8-4ea0-8d27-83f80137ddc5",
   "metadata": {},
   "outputs": [],
   "source": [
    "# init\n",
    "N_RELU = 3\n",
    "np.random.seed(42)\n",
    "m_params = {}\n",
    "m_params['relu'] = torch.tensor(np.random.normal(size=2*N_RELU), requires_grad=True)\n",
    "#m_params['weights'] = torch.tensor(np.ones(shape=N_RELU), requires_grad=True)\n",
    "m_params['weights'] = torch.tensor(np.random.normal(size=N_RELU), requires_grad=True)"
   ]
  },
  {
   "cell_type": "code",
   "execution_count": 279,
   "id": "ba831f7b-dbf2-4dca-9022-8c2ec59b922c",
   "metadata": {},
   "outputs": [
    {
     "name": "stdout",
     "output_type": "stream",
     "text": [
      "# 0: loss: 1.8551761437\n",
      "# 1000: loss: 0.4294019416\n",
      "# 2000: loss: 0.4394733570\n",
      "# 3000: loss: 0.4354927866\n",
      "# 4000: loss: 0.4339221697\n",
      "# 5000: loss: 0.4317382595\n",
      "# 6000: loss: 0.4444558981\n",
      "# 7000: loss: 0.4317752998\n",
      "# 8000: loss: 0.4380252707\n",
      "# 9000: loss: 0.4286124608\n"
     ]
    }
   ],
   "source": [
    "learning_rate = 0.08\n",
    "n_epocs = 10_000\n",
    "do_lr_decay = True\n",
    "learning_trace = []\n",
    "for i in range(n_epocs):\n",
    "    current_loss = calc_model_loss_wrelu(m_params, train_x, train_y)\n",
    "    current_loss.backward()\n",
    "    with torch.no_grad():\n",
    "        m_params['relu'] -= m_params['relu'].grad * learning_rate\n",
    "        m_params['weights'] -= m_params['weights'].grad * learning_rate \n",
    "    m_params['relu'].grad = None\n",
    "    m_params['weights'].grad = None\n",
    "    if i%1000==0:\n",
    "        print(f\"# {i}: loss: {current_loss:.10f}\")\n",
    "    if do_lr_decay and i%1000 == 1:\n",
    "        learning_rate *= 0.95 \n",
    "    loss_val = current_loss.detach().numpy().tolist()\n",
    "    learning_trace.append([i, loss_val])\n",
    "trace_df = pd.DataFrame.from_records(learning_trace, columns=['iter','loss']).set_index('iter')"
   ]
  },
  {
   "cell_type": "code",
   "execution_count": 280,
   "id": "7212310a-1853-4ef9-aec7-ae4646d2a598",
   "metadata": {},
   "outputs": [
    {
     "data": {
      "text/plain": [
       "tensor([ 1.3534, -2.6470, -1.0035,  1.3188, -2.1041, -2.8357],\n",
       "       dtype=torch.float64, requires_grad=True)"
      ]
     },
     "execution_count": 280,
     "metadata": {},
     "output_type": "execute_result"
    }
   ],
   "source": [
    "m_params['relu']"
   ]
  },
  {
   "cell_type": "code",
   "execution_count": 281,
   "id": "47a3ffb5-fdff-43a6-ad50-0718d65a2db0",
   "metadata": {},
   "outputs": [
    {
     "data": {
      "text/plain": [
       "tensor([ 1.8584,  1.1850, -2.0635], dtype=torch.float64, requires_grad=True)"
      ]
     },
     "execution_count": 281,
     "metadata": {},
     "output_type": "execute_result"
    }
   ],
   "source": [
    "m_params['weights']"
   ]
  },
  {
   "cell_type": "code",
   "execution_count": 282,
   "id": "bf0aaa67-fd89-48bb-9fd4-e7806308ed4c",
   "metadata": {},
   "outputs": [
    {
     "data": {
      "text/plain": [
       "<matplotlib.collections.PathCollection at 0x7f952b798fd0>"
      ]
     },
     "execution_count": 282,
     "metadata": {},
     "output_type": "execute_result"
    },
    {
     "data": {
      "image/png": "[encoded data removed]",
      "text/plain": [
       "<Figure size 432x288 with 1 Axes>"
      ]
     },
     "metadata": {
      "needs_background": "light"
     },
     "output_type": "display_data"
    }
   ],
   "source": [
    "learned_f = partial(wrelu_n, m_params['relu'].detach().numpy(), m_params['weights'].detach().numpy())\n",
    "loss = mae_loss(train_y, learned_f(train_x))\n",
    "plot_func(learned_f, f\"Loss: {loss:.3f}\")\n",
    "plt.scatter(train_x, train_y, alpha=0.7)"
   ]
  },
  {
   "cell_type": "code",
   "execution_count": 283,
   "id": "be22ad0d-1381-4386-8a55-ac89ece7fa0e",
   "metadata": {},
   "outputs": [
    {
     "data": {
      "text/plain": [
       "<matplotlib.legend.Legend at 0x7f952b5122b0>"
      ]
     },
     "execution_count": 283,
     "metadata": {},
     "output_type": "execute_result"
    },
    {
     "data": {
      "image/png": "[encoded data removed]",
      "text/plain": [
       "<Figure size 432x288 with 1 Axes>"
      ]
     },
     "metadata": {
      "needs_background": "light"
     },
     "output_type": "display_data"
    }
   ],
   "source": [
    "plot_func(hidden_function)\n",
    "plot_func(learned_f, \n",
    "          title=f\"Hidden function: {hidden_func_title}\\nvs learned relu({N_RELU})\", color='blue')\n",
    "plt.legend(['actual','learned'])"
   ]
  },
  {
   "cell_type": "markdown",
   "id": "6fb24d24-e9d2-48b0-8219-03b1ab3faf8b",
   "metadata": {},
   "source": [
    "* This exercise made me realise that we need a second layer (weights for outputs of each ReLu) to fit cubic function.\n",
    "* Using plain sum is not enough as we couldn't 'turn the ReLu upside down' \n",
    "* My implementation of weights is hacky, yet it works.\n",
    "* Experimenting with random seeds revealed another problem\n",
    "  * for some random seed initialisation is \"unlucky\" and leads to a flat function, which lead to a flat gradient and no updates of coefficients\n",
    "  * that's why different initialisations might be important as long as resetting the learning rate to unstuck from the local optimum\n",
    "  * yet it's interesting that on small dimension the problem of overparametrisation is clear, but it doesn't hit LLMs where overparametrisation actually helps"
   ]
  },
  {
   "cell_type": "code",
   "execution_count": null,
   "id": "820326b0-e554-4a29-b0a4-a0077282293b",
   "metadata": {},
   "outputs": [],
   "source": []
  }
 ],
 "metadata": {
  "kernelspec": {
   "display_name": "Python 3 (ipykernel)",
   "language": "python",
   "name": "python3"
  },
  "language_info": {
   "codemirror_mode": {
    "name": "ipython",
    "version": 3
   },
   "file_extension": ".py",
   "mimetype": "text/x-python",
   "name": "python",
   "nbconvert_exporter": "python",
   "pygments_lexer": "ipython3",
   "version": "3.9.13"
  }
 },
 "nbformat": 4,
 "nbformat_minor": 5
}
